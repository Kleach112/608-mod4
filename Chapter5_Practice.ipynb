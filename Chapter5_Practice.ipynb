{
 "cells": [
  {
   "cell_type": "markdown",
   "id": "c7fa028e-a88c-41d2-abdb-f3485557ceb3",
   "metadata": {},
   "source": [
    "5.2 Lists - homogenous (Same data type) & hetergeneous (Different data types). \n",
    "    * Reference a  list element by writing the list's name followed by the element's index, aka position number enclused in square brackes [] known as the subscription operator.\n",
    "    * Lists are mutable, their elements can be modified. Strings and tuples are immutable.\n",
    "    * use += to append values to lists\n",
    "    * concatenate using the +; example: list1 + list2"
   ]
  },
  {
   "cell_type": "code",
   "execution_count": 1,
   "id": "ad029a78-20bc-4c7f-854c-84921e1d3090",
   "metadata": {},
   "outputs": [],
   "source": [
    "c = [-45, 6, 0, 72, 1543]"
   ]
  },
  {
   "cell_type": "code",
   "execution_count": 2,
   "id": "87fd5ec2-df56-493b-bf74-93e2ead1bd42",
   "metadata": {},
   "outputs": [
    {
     "data": {
      "text/plain": [
       "[-45, 6, 0, 72, 1543]"
      ]
     },
     "execution_count": 2,
     "metadata": {},
     "output_type": "execute_result"
    }
   ],
   "source": [
    "c"
   ]
  },
  {
   "cell_type": "code",
   "execution_count": 3,
   "id": "c5450ab0-dbe0-47fe-b7bc-4419dbe408e6",
   "metadata": {},
   "outputs": [
    {
     "data": {
      "text/plain": [
       "0"
      ]
     },
     "execution_count": 3,
     "metadata": {},
     "output_type": "execute_result"
    }
   ],
   "source": [
    "c[2]"
   ]
  },
  {
   "cell_type": "code",
   "execution_count": 4,
   "id": "f1c3f688-ebe0-4780-a4d8-d221263824a7",
   "metadata": {},
   "outputs": [
    {
     "data": {
      "text/plain": [
       "5"
      ]
     },
     "execution_count": 4,
     "metadata": {},
     "output_type": "execute_result"
    }
   ],
   "source": [
    "len(c)"
   ]
  },
  {
   "cell_type": "code",
   "execution_count": 5,
   "id": "5cbf82dd-d7cc-444e-bfc1-8604306dbfa8",
   "metadata": {},
   "outputs": [
    {
     "data": {
      "text/plain": [
       "0"
      ]
     },
     "execution_count": 5,
     "metadata": {},
     "output_type": "execute_result"
    }
   ],
   "source": [
    "c[-3]"
   ]
  },
  {
   "cell_type": "code",
   "execution_count": 6,
   "id": "b4cf5a26-c615-49a7-8c9f-44cb70039960",
   "metadata": {},
   "outputs": [],
   "source": [
    "c[4] = 17"
   ]
  },
  {
   "cell_type": "code",
   "execution_count": 7,
   "id": "cedb8ea1-3a3e-466e-b043-0f3c75581bdc",
   "metadata": {},
   "outputs": [
    {
     "data": {
      "text/plain": [
       "[-45, 6, 0, 72, 17]"
      ]
     },
     "execution_count": 7,
     "metadata": {},
     "output_type": "execute_result"
    }
   ],
   "source": [
    "c"
   ]
  },
  {
   "cell_type": "code",
   "execution_count": 8,
   "id": "a0d02b6f-9dac-48c6-85d1-cad56e67b9ed",
   "metadata": {},
   "outputs": [
    {
     "data": {
      "text/plain": [
       "[1, 2, 3, 4, 5]"
      ]
     },
     "execution_count": 8,
     "metadata": {},
     "output_type": "execute_result"
    }
   ],
   "source": [
    "a_list = []\n",
    "\n",
    "for number in range (1,6):\n",
    "    a_list += [number]\n",
    "    \n",
    "a_list"
   ]
  },
  {
   "cell_type": "code",
   "execution_count": 9,
   "id": "aa796180-c52d-4cf1-8527-2b24f2d5a787",
   "metadata": {},
   "outputs": [
    {
     "data": {
      "text/plain": [
       "['P', 'y', 't', 'h', 'o', 'n']"
      ]
     },
     "execution_count": 9,
     "metadata": {},
     "output_type": "execute_result"
    }
   ],
   "source": [
    "letters = []\n",
    "\n",
    "letters += 'Python'\n",
    "\n",
    "letters"
   ]
  },
  {
   "cell_type": "code",
   "execution_count": 10,
   "id": "772fc200-2360-4028-aab7-e690ee3c501c",
   "metadata": {},
   "outputs": [
    {
     "data": {
      "text/plain": [
       "[1, 2, 3, 4, 5, 'P', 'y', 't', 'h', 'o', 'n']"
      ]
     },
     "execution_count": 10,
     "metadata": {},
     "output_type": "execute_result"
    }
   ],
   "source": [
    "concatenated_list = a_list + letters\n",
    "\n",
    "concatenated_list"
   ]
  },
  {
   "cell_type": "code",
   "execution_count": 11,
   "id": "a8647799-fe7b-4801-adb2-a587edcc0970",
   "metadata": {},
   "outputs": [
    {
     "data": {
      "text/plain": [
       "[1, 8, 27, 64, 125, 216, 343, 512, 729, 1000]"
      ]
     },
     "execution_count": 11,
     "metadata": {},
     "output_type": "execute_result"
    }
   ],
   "source": [
    "def cube_list(values):\n",
    "    for i in range(len(values)):\n",
    "        values[i] **= 3\n",
    "        \n",
    "numbers = [1, 2, 3, 4, 5, 6, 7, 8, 9, 10]\n",
    "\n",
    "cube_list(numbers)\n",
    "\n",
    "numbers"
   ]
  },
  {
   "cell_type": "code",
   "execution_count": 12,
   "id": "c4213e76-4c01-4e4d-aeba-08b193243c3a",
   "metadata": {},
   "outputs": [
    {
     "data": {
      "text/plain": [
       "['B', 'i', 'r', 't', 'h', 'd', 'a', 'y']"
      ]
     },
     "execution_count": 12,
     "metadata": {},
     "output_type": "execute_result"
    }
   ],
   "source": [
    "characters = []\n",
    "\n",
    "characters += 'Birthday'\n",
    "\n",
    "characters"
   ]
  },
  {
   "cell_type": "code",
   "execution_count": 1,
   "id": "2de972b3-1b47-4e0f-af85-07c01c8ccd81",
   "metadata": {},
   "outputs": [
    {
     "name": "stdout",
     "output_type": "stream",
     "text": [
      "My name is Kim Leach\n"
     ]
    }
   ],
   "source": [
    "print('My name is Kim Leach')"
   ]
  },
  {
   "cell_type": "markdown",
   "id": "b28a6282-6dc6-41cc-a718-898709c0b8b2",
   "metadata": {},
   "source": [
    "5.3 Tuples - tuples are immutable and typically store heterogenous data, but the data can be homogenous. A tuple's length is its number of elements and cannot change during program execution. \n",
    "    * To create an empty tuple, use empty parentheses: student_tuple = ()\n",
    "    * You can pack a tuple by separating its values with commas\n",
    "    * The += augmented assignment statement can be used with strings and tuples even though they're immutable. The item to the right of the += must be a string or tuple respectively."
   ]
  },
  {
   "cell_type": "code",
   "execution_count": 2,
   "id": "753cdf0e-1111-4b77-bf3a-013f81f20138",
   "metadata": {},
   "outputs": [],
   "source": [
    "student_tuple = ()\n",
    "\n",
    "student_tuple = 'Kim', 'Leach', 3.3"
   ]
  },
  {
   "cell_type": "code",
   "execution_count": 3,
   "id": "b7eb7518-41c6-40a8-9905-ec357a82cb4d",
   "metadata": {},
   "outputs": [
    {
     "data": {
      "text/plain": [
       "('Kim', 'Leach', 3.3)"
      ]
     },
     "execution_count": 3,
     "metadata": {},
     "output_type": "execute_result"
    }
   ],
   "source": [
    "student_tuple"
   ]
  },
  {
   "cell_type": "code",
   "execution_count": 4,
   "id": "aa7ae77f-291c-4bab-ae45-fd99a91d3dea",
   "metadata": {},
   "outputs": [],
   "source": [
    "another_student_tuple = ('Kim', 'Teal', 3.3)"
   ]
  },
  {
   "cell_type": "code",
   "execution_count": 5,
   "id": "0b5cb707-24b9-4642-94df-dfeecd1e7cf3",
   "metadata": {},
   "outputs": [
    {
     "data": {
      "text/plain": [
       "('Kim', 'Teal', 3.3)"
      ]
     },
     "execution_count": 5,
     "metadata": {},
     "output_type": "execute_result"
    }
   ],
   "source": [
    "another_student_tuple"
   ]
  },
  {
   "cell_type": "code",
   "execution_count": 16,
   "id": "b28ecd34-af2f-49cb-b762-91f4621c4f4d",
   "metadata": {},
   "outputs": [
    {
     "data": {
      "text/plain": [
       "(9, 16, 1)"
      ]
     },
     "execution_count": 16,
     "metadata": {},
     "output_type": "execute_result"
    }
   ],
   "source": [
    "time_tuple = (9, 16, 1)\n",
    "\n",
    "time_tuple"
   ]
  },
  {
   "cell_type": "code",
   "execution_count": 17,
   "id": "44b2e1cd-9def-44e1-88ce-25245e441abe",
   "metadata": {},
   "outputs": [
    {
     "data": {
      "text/plain": [
       "33361"
      ]
     },
     "execution_count": 17,
     "metadata": {},
     "output_type": "execute_result"
    }
   ],
   "source": [
    "time_tuple[0] * 3600 + time_tuple[1] * 60 + time_tuple[2]"
   ]
  },
  {
   "cell_type": "code",
   "execution_count": 18,
   "id": "e8316089-6b53-4fa6-9c97-a5a807d5bd60",
   "metadata": {},
   "outputs": [
    {
     "data": {
      "text/plain": [
       "(10, 20, 30)"
      ]
     },
     "execution_count": 18,
     "metadata": {},
     "output_type": "execute_result"
    }
   ],
   "source": [
    "tuple1 = (10, 20, 30)\n",
    "\n",
    "tuple2 = tuple1\n",
    "\n",
    "tuple2"
   ]
  },
  {
   "cell_type": "code",
   "execution_count": 19,
   "id": "a361d503-46d0-4920-8813-e0e6a49d33eb",
   "metadata": {},
   "outputs": [
    {
     "data": {
      "text/plain": [
       "(10, 20, 30, 40, 50)"
      ]
     },
     "execution_count": 19,
     "metadata": {},
     "output_type": "execute_result"
    }
   ],
   "source": [
    "tuple1 += (40, 50)\n",
    "\n",
    "tuple1"
   ]
  },
  {
   "cell_type": "code",
   "execution_count": 20,
   "id": "4c76fa68-75c5-4e04-9c17-66cd2f76cfb4",
   "metadata": {},
   "outputs": [
    {
     "data": {
      "text/plain": [
       "(10, 20, 30)"
      ]
     },
     "execution_count": 20,
     "metadata": {},
     "output_type": "execute_result"
    }
   ],
   "source": [
    "tuple2"
   ]
  },
  {
   "cell_type": "code",
   "execution_count": 21,
   "id": "e9fa9d5e-f3a5-4494-8975-14bad0ec2f02",
   "metadata": {},
   "outputs": [],
   "source": [
    "all = tuple1 + tuple2"
   ]
  },
  {
   "cell_type": "code",
   "execution_count": 22,
   "id": "cf87fbe4-54aa-4cbd-acd5-a9a715016513",
   "metadata": {},
   "outputs": [
    {
     "data": {
      "text/plain": [
       "(10, 20, 30, 40, 50, 10, 20, 30)"
      ]
     },
     "execution_count": 22,
     "metadata": {},
     "output_type": "execute_result"
    }
   ],
   "source": [
    "all"
   ]
  },
  {
   "cell_type": "code",
   "execution_count": 23,
   "id": "17e8d41e-afc8-4c7a-a85d-ef772183c340",
   "metadata": {},
   "outputs": [
    {
     "data": {
      "text/plain": [
       "[1, 2, 3, 4, 5, 6, 7]"
      ]
     },
     "execution_count": 23,
     "metadata": {},
     "output_type": "execute_result"
    }
   ],
   "source": [
    "numbers = [1, 2, 3, 4, 5]\n",
    "numbers += (6, 7)\n",
    "numbers"
   ]
  },
  {
   "cell_type": "code",
   "execution_count": 6,
   "id": "86a434ab-9bb3-4964-a8f2-5ee77e7d5947",
   "metadata": {},
   "outputs": [],
   "source": [
    "#tuples may contain mutable objects\n",
    "\n",
    "student_tuple = ('Kim Leach', 'Blue', [98, 75, 87])"
   ]
  },
  {
   "cell_type": "code",
   "execution_count": 7,
   "id": "5d6607d6-4ac4-46c5-8c83-9f51ac5ffa57",
   "metadata": {},
   "outputs": [
    {
     "data": {
      "text/plain": [
       "('Kim Leach', 'Blue', [98, 85, 87])"
      ]
     },
     "execution_count": 7,
     "metadata": {},
     "output_type": "execute_result"
    }
   ],
   "source": [
    "student_tuple[2][1] = 85\n",
    "\n",
    "student_tuple"
   ]
  },
  {
   "cell_type": "code",
   "execution_count": 26,
   "id": "8e0baaf5-e559-44e8-be20-5264c2b199e4",
   "metadata": {},
   "outputs": [
    {
     "data": {
      "text/plain": [
       "3"
      ]
     },
     "execution_count": 26,
     "metadata": {},
     "output_type": "execute_result"
    }
   ],
   "source": [
    "len(student_tuple)"
   ]
  },
  {
   "cell_type": "code",
   "execution_count": 70,
   "id": "e28a0595-839f-458a-967c-36abb6057994",
   "metadata": {},
   "outputs": [],
   "source": [
    "list1 = [1, 2, 3]\n",
    "tuple1 = (4, 5, 6)\n"
   ]
  },
  {
   "cell_type": "markdown",
   "id": "15e2c3f3-2999-4aa1-8d4d-de9372c83959",
   "metadata": {},
   "source": [
    "5.4 Unpacking Sequences\n",
    "    * You can unpack any sequence's elements by assigning the sequece to a comma-separated list of variables. "
   ]
  },
  {
   "cell_type": "code",
   "execution_count": 8,
   "id": "4816efb4-a7f5-4195-b013-7ed6ed39c816",
   "metadata": {},
   "outputs": [
    {
     "data": {
      "text/plain": [
       "'Kim Leach'"
      ]
     },
     "execution_count": 8,
     "metadata": {},
     "output_type": "execute_result"
    }
   ],
   "source": [
    "first_name, color, grades = student_tuple\n",
    "\n",
    "first_name"
   ]
  },
  {
   "cell_type": "code",
   "execution_count": 9,
   "id": "32a74cd6-8514-49a6-b9eb-f0efdae6b144",
   "metadata": {},
   "outputs": [
    {
     "data": {
      "text/plain": [
       "'Blue'"
      ]
     },
     "execution_count": 9,
     "metadata": {},
     "output_type": "execute_result"
    }
   ],
   "source": [
    "color"
   ]
  },
  {
   "cell_type": "code",
   "execution_count": 30,
   "id": "7d550dc1-81f7-4d93-8f4d-a80489148ec9",
   "metadata": {},
   "outputs": [
    {
     "data": {
      "text/plain": [
       "[98, 85, 87]"
      ]
     },
     "execution_count": 30,
     "metadata": {},
     "output_type": "execute_result"
    }
   ],
   "source": [
    "grades"
   ]
  },
  {
   "cell_type": "code",
   "execution_count": 10,
   "id": "1e3f4ac1-a1c1-4716-89a2-d4b52a49e49f",
   "metadata": {},
   "outputs": [
    {
     "name": "stdout",
     "output_type": "stream",
     "text": [
      "k i m\n"
     ]
    }
   ],
   "source": [
    "first, second, third = 'kim'\n",
    "\n",
    "print(f'{first} {second} {third}')"
   ]
  },
  {
   "cell_type": "code",
   "execution_count": 33,
   "id": "b0203683-f3d1-40f2-a71c-5e725d9c081c",
   "metadata": {},
   "outputs": [],
   "source": [
    "colors = ['red', 'orange', 'yellow']"
   ]
  },
  {
   "cell_type": "code",
   "execution_count": 39,
   "id": "6d1f9a60-6831-4761-bcbc-be56f049a8de",
   "metadata": {},
   "outputs": [
    {
     "name": "stdout",
     "output_type": "stream",
     "text": [
      "/nCreating a bar chart from numbers:\n",
      "Index   Value    Bar\n",
      "    0      19    *******************\n",
      "    1       3    ***\n",
      "    2      15    ***************\n",
      "    3       7    *******\n",
      "    4      11    ***********\n"
     ]
    }
   ],
   "source": [
    "# fig05_01.py\n",
    "\"\"\"Displaying a bar chard\"\"\"\n",
    "\n",
    "numbers = [19, 3, 15, 7, 11]\n",
    "\n",
    "print('/nCreating a bar chart from numbers:')\n",
    "print(f'Index{\"Value\":>8}    Bar')\n",
    "\n",
    "for index, value in enumerate(numbers):\n",
    "    print(f'{index:>5}{value:>8}    {\"*\" * value}')"
   ]
  },
  {
   "cell_type": "markdown",
   "id": "4de5925c-006b-4f3b-9251-b8c4409332bd",
   "metadata": {},
   "source": [
    "5.5 Sequence Slicing\n",
    "    * You can slice sequences to create new sequences of the same type containing subsets of the original elements.\n",
    "    * Slice operations can modify mutable sequences -- those that do not modify a sequence work identically for lists, tuples, and strings. "
   ]
  },
  {
   "cell_type": "code",
   "execution_count": 41,
   "id": "c208fc6b-7092-4be0-99ec-b68797eaea97",
   "metadata": {},
   "outputs": [
    {
     "data": {
      "text/plain": [
       "[4, 5, 6, 7]"
      ]
     },
     "execution_count": 41,
     "metadata": {},
     "output_type": "execute_result"
    }
   ],
   "source": [
    "numbers = [2, 3, 4, 5, 6, 7, 8, 9, 10]\n",
    "\n",
    "numbers[2:6] # includes 2 which should start at 4 through but not including 6 so it should end at 7"
   ]
  },
  {
   "cell_type": "code",
   "execution_count": 42,
   "id": "725f36ce-1d5a-4e11-b56a-8a6deb2c76d1",
   "metadata": {},
   "outputs": [
    {
     "data": {
      "text/plain": [
       "[2, 3, 4, 5, 6, 7]"
      ]
     },
     "execution_count": 42,
     "metadata": {},
     "output_type": "execute_result"
    }
   ],
   "source": [
    "numbers[:6] # if no starting index selected 0 is assumed"
   ]
  },
  {
   "cell_type": "code",
   "execution_count": 44,
   "id": "21a99dcf-a0b5-4104-9691-3a22f35c955f",
   "metadata": {},
   "outputs": [
    {
     "data": {
      "text/plain": [
       "[8, 9, 10]"
      ]
     },
     "execution_count": 44,
     "metadata": {},
     "output_type": "execute_result"
    }
   ],
   "source": [
    "numbers[6:] # if no ending index selected 0 is assumed, so it should go to the final number"
   ]
  },
  {
   "cell_type": "code",
   "execution_count": 45,
   "id": "bf9b512f-ac44-448c-a5aa-97be7150089d",
   "metadata": {},
   "outputs": [
    {
     "data": {
      "text/plain": [
       "[2, 3, 4, 5, 6, 7, 8, 9, 10]"
      ]
     },
     "execution_count": 45,
     "metadata": {},
     "output_type": "execute_result"
    }
   ],
   "source": [
    "numbers[:] # omitting the starint and ending indeces copies the entire sequence"
   ]
  },
  {
   "cell_type": "code",
   "execution_count": 47,
   "id": "02093225-f1a0-45f0-8b73-d9a6acf695f1",
   "metadata": {},
   "outputs": [
    {
     "data": {
      "text/plain": [
       "[2, 4, 6, 8, 10]"
      ]
     },
     "execution_count": 47,
     "metadata": {},
     "output_type": "execute_result"
    }
   ],
   "source": [
    "numbers[::2] # creates a step of 2 ot create a slice with every other element of numbers"
   ]
  },
  {
   "cell_type": "code",
   "execution_count": 48,
   "id": "5cda4586-d930-43bd-9bf0-076c15b931ad",
   "metadata": {},
   "outputs": [
    {
     "data": {
      "text/plain": [
       "[10, 9, 8, 7, 6, 5, 4, 3, 2]"
      ]
     },
     "execution_count": 48,
     "metadata": {},
     "output_type": "execute_result"
    }
   ],
   "source": [
    "numbers[::-1] # use a negative step to select slices in reverse order"
   ]
  },
  {
   "cell_type": "code",
   "execution_count": 49,
   "id": "59f2b01e-82fc-4e4e-a164-a1e734385608",
   "metadata": {},
   "outputs": [
    {
     "data": {
      "text/plain": [
       "['two', 'three', 'five', 5, 6, 7, 8, 9, 10]"
      ]
     },
     "execution_count": 49,
     "metadata": {},
     "output_type": "execute_result"
    }
   ],
   "source": [
    "numbers[0:3] = ['two', 'three', 'five']\n",
    "\n",
    "numbers"
   ]
  },
  {
   "cell_type": "code",
   "execution_count": 50,
   "id": "be135274-d2a1-4d26-9212-7a99275f70b8",
   "metadata": {},
   "outputs": [],
   "source": [
    "numbers[0:3] = [] # deletes only the first three elements by assiging an empty list to the three-element slice"
   ]
  },
  {
   "cell_type": "code",
   "execution_count": 51,
   "id": "d6999686-7a3f-4780-8a70-d5a1742345f0",
   "metadata": {},
   "outputs": [
    {
     "data": {
      "text/plain": [
       "[5, 6, 7, 8, 9, 10]"
      ]
     },
     "execution_count": 51,
     "metadata": {},
     "output_type": "execute_result"
    }
   ],
   "source": [
    "numbers"
   ]
  },
  {
   "cell_type": "code",
   "execution_count": 52,
   "id": "3af7734d-12d5-4a1c-9f6a-cbc5616f30c6",
   "metadata": {},
   "outputs": [],
   "source": [
    "# assign a lists elements to a slice of everyother element of numbers:\n",
    "\n",
    "numbers = [2, 3, 5, 7, 11, 13, 17, 19]\n",
    "numbers[::2] = [100, 100, 100, 100]"
   ]
  },
  {
   "cell_type": "code",
   "execution_count": 53,
   "id": "545ab836-0bc2-4702-8cf7-799af787f781",
   "metadata": {},
   "outputs": [
    {
     "data": {
      "text/plain": [
       "[100, 3, 100, 7, 100, 13, 100, 19]"
      ]
     },
     "execution_count": 53,
     "metadata": {},
     "output_type": "execute_result"
    }
   ],
   "source": [
    "numbers"
   ]
  },
  {
   "cell_type": "code",
   "execution_count": 54,
   "id": "7afb24ff-d7a6-471c-b8bb-16510bc81c28",
   "metadata": {},
   "outputs": [
    {
     "data": {
      "text/plain": [
       "1442452120512"
      ]
     },
     "execution_count": 54,
     "metadata": {},
     "output_type": "execute_result"
    }
   ],
   "source": [
    "id(numbers)"
   ]
  },
  {
   "cell_type": "code",
   "execution_count": 55,
   "id": "62afcc58-a9de-4b0b-8928-cc62b99265b6",
   "metadata": {},
   "outputs": [
    {
     "data": {
      "text/plain": [
       "[]"
      ]
     },
     "execution_count": 55,
     "metadata": {},
     "output_type": "execute_result"
    }
   ],
   "source": [
    "#delete all the elements leaving the existing list empty\n",
    "numbers[:] = []\n",
    "\n",
    "numbers"
   ]
  },
  {
   "cell_type": "code",
   "execution_count": 56,
   "id": "697c6e4c-2102-43c3-bf57-62c9a83d37b4",
   "metadata": {},
   "outputs": [
    {
     "data": {
      "text/plain": [
       "1442452120512"
      ]
     },
     "execution_count": 56,
     "metadata": {},
     "output_type": "execute_result"
    }
   ],
   "source": [
    "id(numbers)"
   ]
  },
  {
   "cell_type": "code",
   "execution_count": 57,
   "id": "9764b235-3249-428b-a4d8-5f4aa18be810",
   "metadata": {},
   "outputs": [],
   "source": [
    "numbers = [1, 2, 3, 4, 5, 6, 7, 8, 9, 10, 11, 12, 13, 14, 15]"
   ]
  },
  {
   "cell_type": "code",
   "execution_count": 58,
   "id": "7bfa3e68-3825-415c-9d80-815d4b780b70",
   "metadata": {},
   "outputs": [
    {
     "data": {
      "text/plain": [
       "[2, 4, 6, 8, 10, 12, 14]"
      ]
     },
     "execution_count": 58,
     "metadata": {},
     "output_type": "execute_result"
    }
   ],
   "source": [
    "numbers[1::2]"
   ]
  },
  {
   "cell_type": "code",
   "execution_count": 64,
   "id": "858c5114-9798-4256-b6a7-c48dbe8f2e0b",
   "metadata": {},
   "outputs": [
    {
     "data": {
      "text/plain": [
       "[1, 2, 3, 4, 0, 0, 0, 0, 0, 0]"
      ]
     },
     "execution_count": 64,
     "metadata": {},
     "output_type": "execute_result"
    }
   ],
   "source": [
    "numbers[4:10] = [0, 0, 0, 0, 0, 0]\n",
    "numbers"
   ]
  },
  {
   "cell_type": "code",
   "execution_count": 62,
   "id": "45b9117b-3eee-4ce5-aede-a101b867fd1c",
   "metadata": {},
   "outputs": [
    {
     "data": {
      "text/plain": [
       "[1, 2, 3, 4, 0]"
      ]
     },
     "execution_count": 62,
     "metadata": {},
     "output_type": "execute_result"
    }
   ],
   "source": [
    "numbers[:5]"
   ]
  },
  {
   "cell_type": "code",
   "execution_count": 63,
   "id": "a40fdd64-5261-48be-a415-d6370df10c32",
   "metadata": {},
   "outputs": [
    {
     "data": {
      "text/plain": [
       "[1, 2, 3, 4, 0, 0]"
      ]
     },
     "execution_count": 63,
     "metadata": {},
     "output_type": "execute_result"
    }
   ],
   "source": [
    "numbers[6:] = []\n",
    "numbers"
   ]
  },
  {
   "cell_type": "code",
   "execution_count": 72,
   "id": "c5b0feff-cc95-4385-adee-03244a0fb1b8",
   "metadata": {},
   "outputs": [],
   "source": [
    "del list"
   ]
  },
  {
   "cell_type": "code",
   "execution_count": 80,
   "id": "4103a123-a394-492a-ac7d-897b3c149129",
   "metadata": {},
   "outputs": [],
   "source": [
    "numbers = list(range(0,10))"
   ]
  },
  {
   "cell_type": "code",
   "execution_count": 81,
   "id": "f1fc203c-a991-4443-ba3b-b0670b8a676e",
   "metadata": {},
   "outputs": [
    {
     "data": {
      "text/plain": [
       "[0, 1, 2, 3, 4, 5, 6, 7, 8]"
      ]
     },
     "execution_count": 81,
     "metadata": {},
     "output_type": "execute_result"
    }
   ],
   "source": [
    "del numbers[-1]\n",
    "numbers"
   ]
  },
  {
   "cell_type": "code",
   "execution_count": 82,
   "id": "142b5f76-d52d-49df-9670-b8314062b63d",
   "metadata": {},
   "outputs": [
    {
     "data": {
      "text/plain": [
       "[2, 3, 4, 5, 6, 7, 8]"
      ]
     },
     "execution_count": 82,
     "metadata": {},
     "output_type": "execute_result"
    }
   ],
   "source": [
    "del numbers[0:2]\n",
    "numbers"
   ]
  },
  {
   "cell_type": "code",
   "execution_count": 83,
   "id": "6c59d425-8ecb-4904-80c5-91e25e72c89f",
   "metadata": {},
   "outputs": [
    {
     "data": {
      "text/plain": [
       "[3, 5, 7]"
      ]
     },
     "execution_count": 83,
     "metadata": {},
     "output_type": "execute_result"
    }
   ],
   "source": [
    "del numbers[::2]\n",
    "numbers"
   ]
  },
  {
   "cell_type": "code",
   "execution_count": 84,
   "id": "689cfa2c-6eaf-4a00-a719-69258207d189",
   "metadata": {},
   "outputs": [
    {
     "data": {
      "text/plain": [
       "[]"
      ]
     },
     "execution_count": 84,
     "metadata": {},
     "output_type": "execute_result"
    }
   ],
   "source": [
    "del numbers[:]\n",
    "numbers"
   ]
  },
  {
   "cell_type": "code",
   "execution_count": 85,
   "id": "b5da2f5e-ecce-431c-8254-c44e18d3e55b",
   "metadata": {},
   "outputs": [
    {
     "ename": "NameError",
     "evalue": "name 'numbers' is not defined",
     "output_type": "error",
     "traceback": [
      "\u001b[1;31m---------------------------------------------------------------------------\u001b[0m",
      "\u001b[1;31mNameError\u001b[0m                                 Traceback (most recent call last)",
      "Input \u001b[1;32mIn [85]\u001b[0m, in \u001b[0;36m<cell line: 2>\u001b[1;34m()\u001b[0m\n\u001b[0;32m      1\u001b[0m \u001b[38;5;28;01mdel\u001b[39;00m numbers\n\u001b[1;32m----> 2\u001b[0m \u001b[43mnumbers\u001b[49m\n",
      "\u001b[1;31mNameError\u001b[0m: name 'numbers' is not defined"
     ]
    }
   ],
   "source": [
    "del numbers\n",
    "numbers"
   ]
  },
  {
   "cell_type": "code",
   "execution_count": 91,
   "id": "0bc7fd3b-1697-4f70-bafe-02809e1c54ff",
   "metadata": {},
   "outputs": [
    {
     "data": {
      "text/plain": [
       "[1, 2, 3, 4, 5, 6, 7, 8, 9, 10, 11, 12, 13, 14, 15]"
      ]
     },
     "execution_count": 91,
     "metadata": {},
     "output_type": "execute_result"
    }
   ],
   "source": [
    "numbers = list(range(1,16))\n",
    "numbers"
   ]
  },
  {
   "cell_type": "code",
   "execution_count": 92,
   "id": "fb516641-ca01-4c6d-a8db-3fa7d4ebc786",
   "metadata": {},
   "outputs": [
    {
     "data": {
      "text/plain": [
       "[5, 6, 7, 8, 9, 10, 11, 12, 13, 14, 15]"
      ]
     },
     "execution_count": 92,
     "metadata": {},
     "output_type": "execute_result"
    }
   ],
   "source": [
    "del numbers[0:4]\n",
    "numbers"
   ]
  },
  {
   "cell_type": "code",
   "execution_count": 93,
   "id": "a5bb5f21-b1d3-44b5-9de4-2e3986084526",
   "metadata": {},
   "outputs": [
    {
     "data": {
      "text/plain": [
       "[6, 8, 10, 12, 14]"
      ]
     },
     "execution_count": 93,
     "metadata": {},
     "output_type": "execute_result"
    }
   ],
   "source": [
    "del numbers[::2]\n",
    "numbers"
   ]
  },
  {
   "cell_type": "code",
   "execution_count": null,
   "id": "4a6f219b-3abf-4a5f-ae71-e743da55f439",
   "metadata": {},
   "outputs": [],
   "source": [
    "5.7 Passing Lists to Functions"
   ]
  },
  {
   "cell_type": "code",
   "execution_count": 1,
   "id": "1cae85cb-70e3-4d59-bda4-1740f26fd470",
   "metadata": {},
   "outputs": [],
   "source": [
    "def modify_elements(items):\n",
    "    \"\"\"Multiplies all element values in items by 2.\"\"\"\n",
    "    for i in range(len(items)):\n",
    "        items[i] *= 2\n",
    "        \n",
    "numbers = [10, 3, 7, 1, 9]\n",
    "\n",
    "modify_elements(numbers)"
   ]
  },
  {
   "cell_type": "code",
   "execution_count": 2,
   "id": "a8563951-0976-49fd-af55-a50bc71f0fcb",
   "metadata": {},
   "outputs": [
    {
     "data": {
      "text/plain": [
       "[20, 6, 14, 2, 18]"
      ]
     },
     "execution_count": 2,
     "metadata": {},
     "output_type": "execute_result"
    }
   ],
   "source": [
    "numbers"
   ]
  },
  {
   "cell_type": "code",
   "execution_count": 3,
   "id": "bfae8750-91c0-4e97-bb7b-372df3c6100c",
   "metadata": {},
   "outputs": [
    {
     "data": {
      "text/plain": [
       "(10, 20, 3)"
      ]
     },
     "execution_count": 3,
     "metadata": {},
     "output_type": "execute_result"
    }
   ],
   "source": [
    "numbers_tuple = (10, 20, 3)\n",
    "\n",
    "numbers_tuple"
   ]
  },
  {
   "cell_type": "code",
   "execution_count": 4,
   "id": "e08637a8-5bdc-43b5-aa04-d3878b6d4997",
   "metadata": {},
   "outputs": [
    {
     "ename": "TypeError",
     "evalue": "'tuple' object does not support item assignment",
     "output_type": "error",
     "traceback": [
      "\u001b[1;31m---------------------------------------------------------------------------\u001b[0m",
      "\u001b[1;31mTypeError\u001b[0m                                 Traceback (most recent call last)",
      "Input \u001b[1;32mIn [4]\u001b[0m, in \u001b[0;36m<cell line: 1>\u001b[1;34m()\u001b[0m\n\u001b[1;32m----> 1\u001b[0m \u001b[43mmodify_elements\u001b[49m\u001b[43m(\u001b[49m\u001b[43mnumbers_tuple\u001b[49m\u001b[43m)\u001b[49m\n",
      "Input \u001b[1;32mIn [1]\u001b[0m, in \u001b[0;36mmodify_elements\u001b[1;34m(items)\u001b[0m\n\u001b[0;32m      2\u001b[0m \u001b[38;5;124;03m\"\"\"Multiplies all element values in items by 2.\"\"\"\u001b[39;00m\n\u001b[0;32m      3\u001b[0m \u001b[38;5;28;01mfor\u001b[39;00m i \u001b[38;5;129;01min\u001b[39;00m \u001b[38;5;28mrange\u001b[39m(\u001b[38;5;28mlen\u001b[39m(items)):\n\u001b[1;32m----> 4\u001b[0m     items[i] \u001b[38;5;241m*\u001b[39m\u001b[38;5;241m=\u001b[39m \u001b[38;5;241m2\u001b[39m\n",
      "\u001b[1;31mTypeError\u001b[0m: 'tuple' object does not support item assignment"
     ]
    }
   ],
   "source": [
    "modify_elements(numbers_tuple)"
   ]
  },
  {
   "cell_type": "markdown",
   "id": "80745be5-d588-4fe6-b429-b32349308ca8",
   "metadata": {},
   "source": [
    "5.8 Sorting Lists\n",
    "    * Sorting enables you to arrane data in ascending or descending order"
   ]
  },
  {
   "cell_type": "code",
   "execution_count": 5,
   "id": "fbe026ae-7496-4ef6-bcf0-fa05eab26de9",
   "metadata": {},
   "outputs": [
    {
     "data": {
      "text/plain": [
       "[1, 2, 3, 4, 5, 6, 7, 8, 9, 10]"
      ]
     },
     "execution_count": 5,
     "metadata": {},
     "output_type": "execute_result"
    }
   ],
   "source": [
    "## sorting list in ascending order\n",
    "numbers = [10, 3, 7, 1, 9, 4, 2, 8, 5, 6]\n",
    "numbers.sort()\n",
    "numbers"
   ]
  },
  {
   "cell_type": "code",
   "execution_count": 9,
   "id": "dff14501-84cf-4960-8eb9-22e5d1b66b21",
   "metadata": {},
   "outputs": [
    {
     "data": {
      "text/plain": [
       "[10, 9, 8, 7, 6, 5, 4, 3, 2, 1]"
      ]
     },
     "execution_count": 9,
     "metadata": {},
     "output_type": "execute_result"
    }
   ],
   "source": [
    "# sorting list in descending order\n",
    "numbers.sort(reverse=True)\n",
    "numbers"
   ]
  },
  {
   "cell_type": "code",
   "execution_count": 10,
   "id": "644b57cd-c944-49d0-bea5-634013337de2",
   "metadata": {},
   "outputs": [
    {
     "data": {
      "text/plain": [
       "[1, 2, 3, 4, 5, 6, 7, 8, 9, 10]"
      ]
     },
     "execution_count": 10,
     "metadata": {},
     "output_type": "execute_result"
    }
   ],
   "source": [
    "# built in function sorted returns a new list with the sorted elements of its argument sequence - the original sequence is unmodified.\n",
    "\n",
    "numbers = [10, 3, 7, 1, 9, 4, 2, 8, 5, 6]\n",
    "ascending_numbers = sorted(numbers)\n",
    "ascending_numbers"
   ]
  },
  {
   "cell_type": "code",
   "execution_count": 11,
   "id": "ff2e2bc4-5f2a-4226-a956-4c0ffdb555b8",
   "metadata": {},
   "outputs": [
    {
     "data": {
      "text/plain": [
       "[10, 3, 7, 1, 9, 4, 2, 8, 5, 6]"
      ]
     },
     "execution_count": 11,
     "metadata": {},
     "output_type": "execute_result"
    }
   ],
   "source": [
    "numbers"
   ]
  },
  {
   "cell_type": "code",
   "execution_count": 12,
   "id": "0e6d0d72-1585-4e79-a2a1-c0133e92dfda",
   "metadata": {},
   "outputs": [
    {
     "data": {
      "text/plain": [
       "['a', 'b', 'c', 'd', 'e', 'f', 'g', 'h', 'i', 'j']"
      ]
     },
     "execution_count": 12,
     "metadata": {},
     "output_type": "execute_result"
    }
   ],
   "source": [
    "letters = 'fadgchjebi'\n",
    "ascending_letters = sorted(letters)\n",
    "ascending_letters"
   ]
  },
  {
   "cell_type": "code",
   "execution_count": 13,
   "id": "839fcb09-d15f-4908-831c-7313eac8adec",
   "metadata": {},
   "outputs": [
    {
     "data": {
      "text/plain": [
       "'fadgchjebi'"
      ]
     },
     "execution_count": 13,
     "metadata": {},
     "output_type": "execute_result"
    }
   ],
   "source": [
    "letters"
   ]
  },
  {
   "cell_type": "code",
   "execution_count": 15,
   "id": "f4653d27-a95d-4df0-839e-53673e15f93c",
   "metadata": {},
   "outputs": [
    {
     "data": {
      "text/plain": [
       "['blue', 'green', 'orange', 'red', 'yellow']"
      ]
     },
     "execution_count": 15,
     "metadata": {},
     "output_type": "execute_result"
    }
   ],
   "source": [
    "# sorts alphabetically\n",
    "colors = ('red', 'orange', 'yellow', 'green', 'blue')\n",
    "ascending_colors = sorted(colors)\n",
    "ascending_colors"
   ]
  },
  {
   "cell_type": "code",
   "execution_count": 21,
   "id": "997a5736-c0ad-43a8-a751-958aa06ad0a3",
   "metadata": {},
   "outputs": [
    {
     "data": {
      "text/plain": [
       "[10, 9, 8, 7, 6, 5, 4, 3, 2, 1]"
      ]
     },
     "execution_count": 21,
     "metadata": {},
     "output_type": "execute_result"
    }
   ],
   "source": [
    "# sort in descending order\n",
    "descending_numbers = sorted(numbers,reverse=True)\n",
    "descending_numbers"
   ]
  },
  {
   "cell_type": "code",
   "execution_count": 25,
   "id": "6c76b63f-1335-45b5-97af-e0ef40cc7cfb",
   "metadata": {},
   "outputs": [
    {
     "data": {
      "text/plain": [
       "['Bacon', 'Cookies', 'Grapes', 'apples', 'pizza', 'steak']"
      ]
     },
     "execution_count": 25,
     "metadata": {},
     "output_type": "execute_result"
    }
   ],
   "source": [
    "# strings are compared by their character's numerical values, not their letters, so mixed cases sorts by case/alpabetical - case/alphabetical\n",
    "foods = ['Cookies', 'pizza', 'Grapes', 'apples', 'steak', 'Bacon']\n",
    "foods.sort ()\n",
    "foods"
   ]
  },
  {
   "cell_type": "markdown",
   "id": "92bd2d36-7dcc-4afe-95ed-3d59e9829487",
   "metadata": {},
   "source": [
    "5.9 Searching Sequences - searching is the proces of locating a key."
   ]
  },
  {
   "cell_type": "code",
   "execution_count": 26,
   "id": "c4c2293c-8afc-41ba-b972-b6125353b226",
   "metadata": {},
   "outputs": [
    {
     "data": {
      "text/plain": [
       "6"
      ]
     },
     "execution_count": 26,
     "metadata": {},
     "output_type": "execute_result"
    }
   ],
   "source": [
    "# list method index - takes as an argument a search key - the value to locate in the list - then searches throguh the list form inex - and returns the index of the first elementa that matches the key.\n",
    "\n",
    "numbers = [3, 7, 1, 4, 2, 8, 5, 6]\n",
    "numbers.index(5) #gives the index number of the value?"
   ]
  },
  {
   "cell_type": "code",
   "execution_count": 27,
   "id": "2e1c28ba-163e-49c9-8b25-28973ccd0872",
   "metadata": {},
   "outputs": [
    {
     "data": {
      "text/plain": [
       "[3, 7, 1, 4, 2, 8, 5, 6, 3, 7, 1, 4, 2, 8, 5, 6]"
      ]
     },
     "execution_count": 27,
     "metadata": {},
     "output_type": "execute_result"
    }
   ],
   "source": [
    "# Specifying the starting index of a search - use *= to multiply a sequence, append a sequence to itself multiple times\n",
    "\n",
    "numbers *= 2\n",
    "numbers"
   ]
  },
  {
   "cell_type": "code",
   "execution_count": 28,
   "id": "1e088c86-9d23-4bc4-ba7a-9a6912d083dc",
   "metadata": {},
   "outputs": [
    {
     "data": {
      "text/plain": [
       "14"
      ]
     },
     "execution_count": 28,
     "metadata": {},
     "output_type": "execute_result"
    }
   ],
   "source": [
    "# following code searches the updated list for the value 5 starting from index 7 and continuing through the end of the list\n",
    "numbers.index(5, 7)"
   ]
  },
  {
   "cell_type": "code",
   "execution_count": 29,
   "id": "c7550a7d-3683-4683-a4f3-69f3f76e95d5",
   "metadata": {},
   "outputs": [
    {
     "data": {
      "text/plain": [
       "1"
      ]
     },
     "execution_count": 29,
     "metadata": {},
     "output_type": "execute_result"
    }
   ],
   "source": [
    "# specifying the starting and ending indices of a search: searches from starting index up to but not including the ending index location\n",
    "numbers.index(7, 0, 4) #searchs for value of 7 starting at index 0 and searching through index 3, should return 1"
   ]
  },
  {
   "cell_type": "code",
   "execution_count": 30,
   "id": "ee5f0d8d-7b82-44c7-b474-7acb5dedef6c",
   "metadata": {},
   "outputs": [
    {
     "data": {
      "text/plain": [
       "False"
      ]
     },
     "execution_count": 30,
     "metadata": {},
     "output_type": "execute_result"
    }
   ],
   "source": [
    "# operators in and not in test whether the right operand's iterable contains the left operand's iterable\n",
    "1000 in numbers"
   ]
  },
  {
   "cell_type": "code",
   "execution_count": 31,
   "id": "4610d636-325c-4830-921e-a9f57c7831e0",
   "metadata": {},
   "outputs": [
    {
     "data": {
      "text/plain": [
       "True"
      ]
     },
     "execution_count": 31,
     "metadata": {},
     "output_type": "execute_result"
    }
   ],
   "source": [
    "5 in numbers"
   ]
  },
  {
   "cell_type": "code",
   "execution_count": 32,
   "id": "bee219a9-c417-4ab6-ac5c-a43242506786",
   "metadata": {},
   "outputs": [
    {
     "data": {
      "text/plain": [
       "True"
      ]
     },
     "execution_count": 32,
     "metadata": {},
     "output_type": "execute_result"
    }
   ],
   "source": [
    "1000 not in numbers"
   ]
  },
  {
   "cell_type": "code",
   "execution_count": 33,
   "id": "39fca3c6-bbdc-4ff9-af1e-9cfbd012c54b",
   "metadata": {},
   "outputs": [
    {
     "data": {
      "text/plain": [
       "False"
      ]
     },
     "execution_count": 33,
     "metadata": {},
     "output_type": "execute_result"
    }
   ],
   "source": [
    "5 not in numbers"
   ]
  },
  {
   "cell_type": "code",
   "execution_count": 34,
   "id": "ceb8649b-c2e7-4c82-801e-2b5026774ce4",
   "metadata": {},
   "outputs": [
    {
     "name": "stdout",
     "output_type": "stream",
     "text": [
      "1000 not found\n"
     ]
    }
   ],
   "source": [
    "# use IN to ensure that calls to method index don't result in ValueError for search keys not in the corresponding sequence:\n",
    "\n",
    "key = 1000\n",
    "if key in numbers:\n",
    "    print(f'found {key} at index {numbers.index(key)}')\n",
    "else:\n",
    "    print(f'{key} not found')"
   ]
  },
  {
   "cell_type": "code",
   "execution_count": 35,
   "id": "b87d86e7-2809-43fb-a8e7-681408b08aa0",
   "metadata": {},
   "outputs": [
    {
     "name": "stdout",
     "output_type": "stream",
     "text": [
      "found 5 at index 6\n"
     ]
    }
   ],
   "source": [
    "key = 5\n",
    "if key in numbers:\n",
    "    print(f'found {key} at index {numbers.index(key)}')\n",
    "else:\n",
    "    print(f'{key} not found')"
   ]
  },
  {
   "cell_type": "code",
   "execution_count": 36,
   "id": "4619c54e-2dda-45ac-a72f-468903c3e71c",
   "metadata": {},
   "outputs": [
    {
     "data": {
      "text/plain": [
       "3"
      ]
     },
     "execution_count": 36,
     "metadata": {},
     "output_type": "execute_result"
    }
   ],
   "source": [
    "numbers = [67, 12, 46, 43, 13]\n",
    "numbers.index(43)"
   ]
  },
  {
   "cell_type": "code",
   "execution_count": 37,
   "id": "5391be96-bc93-41b0-a476-3b7cad06b12a",
   "metadata": {},
   "outputs": [
    {
     "name": "stdout",
     "output_type": "stream",
     "text": [
      "44 not found\n"
     ]
    }
   ],
   "source": [
    "if 44 in numbers:\n",
    "    print(f'found 44 at index {numbers.index(key)}')\n",
    "else:\n",
    "    print(f'44 not found')"
   ]
  },
  {
   "cell_type": "markdown",
   "id": "00899491-44e0-4db1-8a51-fac425756c7a",
   "metadata": {},
   "source": [
    "5.10 Other List Methods"
   ]
  },
  {
   "cell_type": "code",
   "execution_count": 39,
   "id": "a22b1d7c-4ef4-4ffa-954b-41e02df69460",
   "metadata": {},
   "outputs": [
    {
     "data": {
      "text/plain": [
       "['red', 'orange', 'yellow', 'green']"
      ]
     },
     "execution_count": 39,
     "metadata": {},
     "output_type": "execute_result"
    }
   ],
   "source": [
    "# insert an element at a specific list index\n",
    "\n",
    "color_names = ['orange', 'yellow', 'green']\n",
    "color_names.insert(0, 'red')\n",
    "color_names"
   ]
  },
  {
   "cell_type": "code",
   "execution_count": 40,
   "id": "a120c293-aa4d-463f-9e37-9f4f023a2606",
   "metadata": {},
   "outputs": [
    {
     "data": {
      "text/plain": [
       "['red', 'orange', 'yellow', 'green', 'blue']"
      ]
     },
     "execution_count": 40,
     "metadata": {},
     "output_type": "execute_result"
    }
   ],
   "source": [
    "# add an element to the end of a list\n",
    "\n",
    "color_names.append('blue')\n",
    "color_names"
   ]
  },
  {
   "cell_type": "code",
   "execution_count": 41,
   "id": "26737449-b591-41a2-b423-c4bd2059f838",
   "metadata": {},
   "outputs": [
    {
     "data": {
      "text/plain": [
       "['red', 'orange', 'yellow', 'green', 'blue', 'indigo', 'violet']"
      ]
     },
     "execution_count": 41,
     "metadata": {},
     "output_type": "execute_result"
    }
   ],
   "source": [
    "# adding all the elements of a sequnce to the end of a list\n",
    "\n",
    "color_names.extend(['indigo', 'violet'])\n",
    "color_names"
   ]
  },
  {
   "cell_type": "code",
   "execution_count": 42,
   "id": "6e8324ed-c532-4f3e-aad6-422e7d8fb37f",
   "metadata": {},
   "outputs": [
    {
     "data": {
      "text/plain": [
       "['a', 'b', 'c']"
      ]
     },
     "execution_count": 42,
     "metadata": {},
     "output_type": "execute_result"
    }
   ],
   "source": [
    "# equivelant to using +=; the following adds all the characters of a string then all the elements of a tuple to a list:\n",
    "\n",
    "sample_list = []\n",
    "s = 'abc'\n",
    "sample_list.extend(s)\n",
    "sample_list"
   ]
  },
  {
   "cell_type": "code",
   "execution_count": 43,
   "id": "39485a10-a706-4eee-961f-982ad8c8fde0",
   "metadata": {},
   "outputs": [
    {
     "data": {
      "text/plain": [
       "['a', 'b', 'c', 1, 2, 3]"
      ]
     },
     "execution_count": 43,
     "metadata": {},
     "output_type": "execute_result"
    }
   ],
   "source": [
    "t = (1, 2, 3)\n",
    "sample_list.extend(t)\n",
    "sample_list"
   ]
  },
  {
   "cell_type": "code",
   "execution_count": 44,
   "id": "92f577c8-68c6-4544-bd36-5a9d91113aab",
   "metadata": {},
   "outputs": [
    {
     "data": {
      "text/plain": [
       "['a', 'b', 'c', 1, 2, 3, 4, 5, 6]"
      ]
     },
     "execution_count": 44,
     "metadata": {},
     "output_type": "execute_result"
    }
   ],
   "source": [
    "# pass a tuple directly to extned; in this case the tuple's parentheses are required because extend expects one iterable argument\n",
    "\n",
    "sample_list.extend((4, 5, 6))\n",
    "sample_list"
   ]
  },
  {
   "cell_type": "code",
   "execution_count": 45,
   "id": "128ea2ab-ed82-476f-9bd8-df8be105c46c",
   "metadata": {},
   "outputs": [
    {
     "data": {
      "text/plain": [
       "['red', 'orange', 'yellow', 'blue', 'indigo', 'violet']"
      ]
     },
     "execution_count": 45,
     "metadata": {},
     "output_type": "execute_result"
    }
   ],
   "source": [
    "#remove the first occurrence of an element in a list; remove deletes the first element with a specified value, ValueError occurs if remove's argument is not in the list\n",
    "\n",
    "color_names.remove('green')\n",
    "color_names"
   ]
  },
  {
   "cell_type": "code",
   "execution_count": 47,
   "id": "66a89879-2afe-4020-829c-5d3f28a1b6e4",
   "metadata": {},
   "outputs": [
    {
     "data": {
      "text/plain": [
       "[]"
      ]
     },
     "execution_count": 47,
     "metadata": {},
     "output_type": "execute_result"
    }
   ],
   "source": [
    "# to delete all the elements in a list, call method clear; equivalent of the previously shown slice assignment color_names[:] = []\n",
    "\n",
    "color_names.clear()\n",
    "color_names"
   ]
  },
  {
   "cell_type": "code",
   "execution_count": 48,
   "id": "cf1eca7b-b84f-496f-a457-8ac471b215a6",
   "metadata": {},
   "outputs": [
    {
     "name": "stdout",
     "output_type": "stream",
     "text": [
      "1 appears 3 times in responses\n",
      "2 appears 5 times in responses\n",
      "3 appears 8 times in responses\n",
      "4 appears 2 times in responses\n",
      "5 appears 2 times in responses\n"
     ]
    }
   ],
   "source": [
    "# counting the number of occurrences of an item; count searches for its argument and returns the number of times it's found:\n",
    "\n",
    "responses = [1, 2, 5, 4, 3, 5, 2, 1, 3, 3,\n",
    "             1, 4, 3, 3, 3, 2, 3, 3, 2, 2]\n",
    "\n",
    "for i in range(1, 6): # looks for values 1 through 5\n",
    "    print(f'{i} appears {responses.count(i)} times in responses') # i is the values in the list, responses.count counts occurrences"
   ]
  },
  {
   "cell_type": "code",
   "execution_count": 50,
   "id": "0adf844c-01fe-4d87-93af-8724a4bebc42",
   "metadata": {},
   "outputs": [
    {
     "data": {
      "text/plain": [
       "['blue', 'green', 'yellow', 'orange', 'red']"
      ]
     },
     "execution_count": 50,
     "metadata": {},
     "output_type": "execute_result"
    }
   ],
   "source": [
    "# reversing a lists elements; reverse reverses the contents of a list in place, rather than creating a reversed copy\n",
    "\n",
    "color_names = ['red', 'orange', 'yellow', 'green', 'blue']\n",
    "color_names.reverse()\n",
    "color_names"
   ]
  },
  {
   "cell_type": "code",
   "execution_count": 52,
   "id": "15dc0b0d-9ab4-463c-800e-8eb49d361ca1",
   "metadata": {},
   "outputs": [
    {
     "data": {
      "text/plain": [
       "['blue', 'green', 'yellow', 'orange', 'red']"
      ]
     },
     "execution_count": 52,
     "metadata": {},
     "output_type": "execute_result"
    }
   ],
   "source": [
    "# copying a list; copy returns a new list containing a shallow copy of the original; equivelant to slice operation copied_list = color_names[:]\n",
    "\n",
    "copied_list = color_names.copy()\n",
    "\n",
    "copied_list"
   ]
  },
  {
   "cell_type": "code",
   "execution_count": 53,
   "id": "d1563d34-5173-4f99-be8a-4945b0c5bb88",
   "metadata": {},
   "outputs": [],
   "source": [
    "rainbow = ['green', 'orange', 'violet']"
   ]
  },
  {
   "cell_type": "code",
   "execution_count": 61,
   "id": "a552769a-025d-4390-a154-0b55063ff267",
   "metadata": {},
   "outputs": [
    {
     "data": {
      "text/plain": [
       "2"
      ]
     },
     "execution_count": 61,
     "metadata": {},
     "output_type": "execute_result"
    }
   ],
   "source": [
    "rainbow.index('violet')"
   ]
  },
  {
   "cell_type": "code",
   "execution_count": 62,
   "id": "fab9a9a9-4cb9-432e-83ed-b258259573d1",
   "metadata": {},
   "outputs": [
    {
     "data": {
      "text/plain": [
       "['green', 'orange', 'red', 'violet']"
      ]
     },
     "execution_count": 62,
     "metadata": {},
     "output_type": "execute_result"
    }
   ],
   "source": [
    "rainbow.insert(2, 'red')\n",
    "rainbow"
   ]
  },
  {
   "cell_type": "code",
   "execution_count": 63,
   "id": "4aa8fe78-29f8-422d-9676-f698abd72ec7",
   "metadata": {},
   "outputs": [
    {
     "data": {
      "text/plain": [
       "['green', 'orange', 'red', 'violet', 'yellow']"
      ]
     },
     "execution_count": 63,
     "metadata": {},
     "output_type": "execute_result"
    }
   ],
   "source": [
    "rainbow.append('yellow')\n",
    "rainbow"
   ]
  },
  {
   "cell_type": "code",
   "execution_count": 64,
   "id": "fa91632e-8cee-4226-a304-c413ca285ea0",
   "metadata": {},
   "outputs": [
    {
     "data": {
      "text/plain": [
       "['yellow', 'violet', 'red', 'orange', 'green']"
      ]
     },
     "execution_count": 64,
     "metadata": {},
     "output_type": "execute_result"
    }
   ],
   "source": [
    "rainbow.reverse()\n",
    "rainbow"
   ]
  },
  {
   "cell_type": "code",
   "execution_count": 65,
   "id": "4b53d394-daac-4088-8138-a1f1302c517b",
   "metadata": {},
   "outputs": [
    {
     "data": {
      "text/plain": [
       "['yellow', 'violet', 'red', 'green']"
      ]
     },
     "execution_count": 65,
     "metadata": {},
     "output_type": "execute_result"
    }
   ],
   "source": [
    "rainbow.remove('orange')\n",
    "rainbow"
   ]
  },
  {
   "cell_type": "markdown",
   "id": "a56fd3cb-2771-45ab-b3a7-4228a9b84af9",
   "metadata": {},
   "source": [
    "5.11 Simulating Stacks with Lists - python does not have a built-in stack type\n",
    "    * You push using list method append which adds a new element to the end of the list\n",
    "    * You pop using list method pop with no arguments, which removes and returns the item at the end of the list"
   ]
  },
  {
   "cell_type": "code",
   "execution_count": 66,
   "id": "8c94fbbc-1a59-4a03-a98d-c868ab463d4b",
   "metadata": {},
   "outputs": [
    {
     "data": {
      "text/plain": [
       "['red']"
      ]
     },
     "execution_count": 66,
     "metadata": {},
     "output_type": "execute_result"
    }
   ],
   "source": [
    "#create an empty list called stack, push (append) two strings onto it, then pop the strings to confirm they're retrieved in last-in, first-out (LIFO) order:\n",
    "\n",
    "stack = []\n",
    "stack.append('red')\n",
    "stack"
   ]
  },
  {
   "cell_type": "code",
   "execution_count": 67,
   "id": "0ff82535-555c-4f3f-b59c-18299cc62be4",
   "metadata": {},
   "outputs": [
    {
     "data": {
      "text/plain": [
       "['red', 'green']"
      ]
     },
     "execution_count": 67,
     "metadata": {},
     "output_type": "execute_result"
    }
   ],
   "source": [
    "stack.append('green')\n",
    "stack"
   ]
  },
  {
   "cell_type": "code",
   "execution_count": 68,
   "id": "8ab36bd3-3ddd-4767-bcfe-5bf8b2ed3ea1",
   "metadata": {},
   "outputs": [
    {
     "data": {
      "text/plain": [
       "'green'"
      ]
     },
     "execution_count": 68,
     "metadata": {},
     "output_type": "execute_result"
    }
   ],
   "source": [
    "stack.pop()"
   ]
  },
  {
   "cell_type": "code",
   "execution_count": 69,
   "id": "127c4d97-fac8-45cb-954d-c346b5af128e",
   "metadata": {},
   "outputs": [
    {
     "data": {
      "text/plain": [
       "['red']"
      ]
     },
     "execution_count": 69,
     "metadata": {},
     "output_type": "execute_result"
    }
   ],
   "source": [
    "stack"
   ]
  },
  {
   "cell_type": "code",
   "execution_count": 70,
   "id": "ec148124-513a-4082-ad59-d80011e9667d",
   "metadata": {},
   "outputs": [
    {
     "data": {
      "text/plain": [
       "'red'"
      ]
     },
     "execution_count": 70,
     "metadata": {},
     "output_type": "execute_result"
    }
   ],
   "source": [
    "stack.pop()"
   ]
  },
  {
   "cell_type": "code",
   "execution_count": 71,
   "id": "77a035a9-ef65-43a6-a525-500f7aa2b857",
   "metadata": {},
   "outputs": [
    {
     "data": {
      "text/plain": [
       "[]"
      ]
     },
     "execution_count": 71,
     "metadata": {},
     "output_type": "execute_result"
    }
   ],
   "source": [
    "stack"
   ]
  },
  {
   "cell_type": "code",
   "execution_count": 72,
   "id": "0a99c7be-5e15-49f7-a982-2f46046dfc98",
   "metadata": {},
   "outputs": [
    {
     "ename": "IndexError",
     "evalue": "pop from empty list",
     "output_type": "error",
     "traceback": [
      "\u001b[1;31m---------------------------------------------------------------------------\u001b[0m",
      "\u001b[1;31mIndexError\u001b[0m                                Traceback (most recent call last)",
      "Input \u001b[1;32mIn [72]\u001b[0m, in \u001b[0;36m<cell line: 1>\u001b[1;34m()\u001b[0m\n\u001b[1;32m----> 1\u001b[0m \u001b[43mstack\u001b[49m\u001b[38;5;241;43m.\u001b[39;49m\u001b[43mpop\u001b[49m\u001b[43m(\u001b[49m\u001b[43m)\u001b[49m\n",
      "\u001b[1;31mIndexError\u001b[0m: pop from empty list"
     ]
    }
   ],
   "source": [
    "stack.pop()"
   ]
  },
  {
   "cell_type": "markdown",
   "id": "b2efd2ce-9864-45ac-9721-a20fc6788125",
   "metadata": {},
   "source": [
    "Each pop snippet returns the value that pop removes; popping from an empty stack produces an IndexError. To prevent an error, ensure that len(stack) is greater than 0 before calling pop."
   ]
  },
  {
   "cell_type": "markdown",
   "id": "238c6d22-5741-4687-b779-68ea99581e3d",
   "metadata": {},
   "source": [
    "5.12 List comprehensions: a notation for creating new lists, they can replace many for statements that iterate over existing sequences and create new lists, such as:"
   ]
  },
  {
   "cell_type": "code",
   "execution_count": 73,
   "id": "49be8e3c-97e9-4d48-8640-bedf218ff9c1",
   "metadata": {},
   "outputs": [
    {
     "data": {
      "text/plain": [
       "[1, 2, 3, 4, 5]"
      ]
     },
     "execution_count": 73,
     "metadata": {},
     "output_type": "execute_result"
    }
   ],
   "source": [
    "list1 = []\n",
    "\n",
    "for item in range(1, 6):\n",
    "    list1.append(item) #should produce a list from one up to but not including 6\n",
    "    \n",
    "list1"
   ]
  },
  {
   "cell_type": "code",
   "execution_count": 74,
   "id": "58603345-358f-499f-b914-6369e8fc42b5",
   "metadata": {},
   "outputs": [
    {
     "data": {
      "text/plain": [
       "[1, 2, 3, 4, 5]"
      ]
     },
     "execution_count": 74,
     "metadata": {},
     "output_type": "execute_result"
    }
   ],
   "source": [
    "# Using a list comprehension to create a list of integers; for each item the list comprehension evaluates the expression to the left of the for clause and places the expression's value in the new list\n",
    "# same as list2 = list(range(1,6))\n",
    "\n",
    "list2 = [item for item in range(1,6)]\n",
    "list2"
   ]
  },
  {
   "cell_type": "code",
   "execution_count": 76,
   "id": "9088546e-e043-4cd5-8ac2-74ba6dfb80c3",
   "metadata": {},
   "outputs": [
    {
     "data": {
      "text/plain": [
       "[1, 8, 27, 64, 125]"
      ]
     },
     "execution_count": 76,
     "metadata": {},
     "output_type": "execute_result"
    }
   ],
   "source": [
    "# Mapping: performing operations in a list comprehensions expression; produces a result with the same number of elements as the original data beig mapped. \n",
    "# the following maps each value to its cube with the expression item ** 3\n",
    "\n",
    "list3 = [item ** 3 for item in range(1, 6)]\n",
    "list3"
   ]
  },
  {
   "cell_type": "code",
   "execution_count": 78,
   "id": "d6aa2335-8aff-4717-a8dc-7c397decbd7d",
   "metadata": {},
   "outputs": [
    {
     "data": {
      "text/plain": [
       "[2, 4, 6, 8, 10]"
      ]
     },
     "execution_count": 78,
     "metadata": {},
     "output_type": "execute_result"
    }
   ],
   "source": [
    "# filtering: list comprehension with if clauses; filter selects only those that match a condition - typically produces list with fewer elements than the data being filtered, use the if clause\n",
    "\n",
    "list4 = [item for item in range(1, 11) if item % 2 == 0]\n",
    "list4"
   ]
  },
  {
   "cell_type": "code",
   "execution_count": 79,
   "id": "f6d3c666-5c3b-43ca-863e-b11b2605ecf4",
   "metadata": {},
   "outputs": [
    {
     "data": {
      "text/plain": [
       "['RED', 'ORANGE', 'GREEN', 'BLUE']"
      ]
     },
     "execution_count": 79,
     "metadata": {},
     "output_type": "execute_result"
    }
   ],
   "source": [
    "# list comprehension that processes another list's elements: create a list of lowercase strings and use a list comp. to create a new list with their uppercase versions\n",
    "\n",
    "colors = ['red', 'orange', 'green', 'blue']\n",
    "colors2 = [item.upper() for item in colors]\n",
    "colors2"
   ]
  },
  {
   "cell_type": "code",
   "execution_count": 80,
   "id": "eab76af8-c6cb-4cad-8e7c-6884e95ac6c9",
   "metadata": {},
   "outputs": [
    {
     "data": {
      "text/plain": [
       "['red', 'orange', 'green', 'blue']"
      ]
     },
     "execution_count": 80,
     "metadata": {},
     "output_type": "execute_result"
    }
   ],
   "source": [
    "colors"
   ]
  },
  {
   "cell_type": "code",
   "execution_count": 81,
   "id": "5a771612-7929-4199-9194-ca6655250757",
   "metadata": {},
   "outputs": [
    {
     "data": {
      "text/plain": [
       "[(1, 1), (2, 8), (3, 27), (4, 64), (5, 125)]"
      ]
     },
     "execution_count": 81,
     "metadata": {},
     "output_type": "execute_result"
    }
   ],
   "source": [
    "# create a list of tuples containing the numbers 1-5 and their cubes; to create tupbles place parentheses around the expession to the left of the for clause\n",
    "\n",
    "cubes = [(x, x**3) for x in range(1,6)]\n",
    "cubes"
   ]
  },
  {
   "cell_type": "code",
   "execution_count": 82,
   "id": "f0d66d85-bcaa-42a1-9556-de4a59c85d29",
   "metadata": {},
   "outputs": [
    {
     "data": {
      "text/plain": [
       "[3, 6, 9, 12, 15, 18, 21, 24, 27]"
      ]
     },
     "execution_count": 82,
     "metadata": {},
     "output_type": "execute_result"
    }
   ],
   "source": [
    "# use a list comprehension and the range function with a step to create a list of the multiples of 3 that are less than 30\n",
    "\n",
    "multiples = [x for x in range(3, 30, 3)]\n",
    "multiples"
   ]
  },
  {
   "cell_type": "markdown",
   "id": "c4755077-b6cd-4aa8-8aa0-1f64e0e15d3c",
   "metadata": {},
   "source": [
    "5.13 Generator Expressions: similar to list comprehension, but creates and iterable gneragor objec that produces values on demand. This is known as a lazy evaluation.\n",
    "    *List comprehensions use greedy evaluation - they create lists immediately when executed\n",
    "    *Generator expressions can reduce your program's memory consumption and improve performance\n",
    "    *Generator expressions have the same capabilites as list comprehensions\n",
    "        *Define them in parentheses instead of square brackets"
   ]
  },
  {
   "cell_type": "code",
   "execution_count": 83,
   "id": "e0ea776d-44e9-4bd8-84db-a11aad344623",
   "metadata": {},
   "outputs": [
    {
     "name": "stdout",
     "output_type": "stream",
     "text": [
      "9 49 1 81 25 "
     ]
    }
   ],
   "source": [
    "# returns only the odd calues in numbers\n",
    "\n",
    "numbers = [10, 3, 7, 1, 9, 4, 2, 8, 5, 6]\n",
    "\n",
    "for value in (x ** 2 for x in numbers if x % 2 != 0):\n",
    "    print(value, end=' ')"
   ]
  },
  {
   "cell_type": "code",
   "execution_count": 84,
   "id": "d1dab8ee-b3cf-4699-a111-4285f9149cb7",
   "metadata": {},
   "outputs": [
    {
     "data": {
      "text/plain": [
       "<generator object <genexpr> at 0x0000022DAC7535F0>"
      ]
     },
     "execution_count": 84,
     "metadata": {},
     "output_type": "execute_result"
    }
   ],
   "source": [
    "squares_of_odds = (x ** 2 for x in numbers if x % 2 != 0)\n",
    "squares_of_odds"
   ]
  },
  {
   "cell_type": "code",
   "execution_count": 85,
   "id": "d080a9b1-fab1-47bb-aca8-d4d2e971c836",
   "metadata": {},
   "outputs": [
    {
     "data": {
      "text/plain": [
       "[1000, 64, 8]"
      ]
     },
     "execution_count": 85,
     "metadata": {},
     "output_type": "execute_result"
    }
   ],
   "source": [
    "# create a gnerator expression that cubes the even integers in a list. Use function list to create a list of the results. Note that the function call's parentheses also act as the generator expression's parentheses\n",
    "\n",
    "list(x ** 3 for x in [10, 3, 7, 1, 9, 4, 2] if x % 2 == 0)"
   ]
  },
  {
   "cell_type": "markdown",
   "id": "1db1be37-9b1f-4863-8295-dbb058555d22",
   "metadata": {},
   "source": [
    "5.14 Filter, Map and Reduce: demonstrate the built-in filter and map functions; continue with redcutions of a collction of elements into a single value such as their count, total, produce, avg, min, max"
   ]
  },
  {
   "cell_type": "code",
   "execution_count": 86,
   "id": "6a3764af-80f1-4d23-ba76-eb3ac8a68b7e",
   "metadata": {},
   "outputs": [
    {
     "data": {
      "text/plain": [
       "[3, 7, 1, 9, 5]"
      ]
     },
     "execution_count": 86,
     "metadata": {},
     "output_type": "execute_result"
    }
   ],
   "source": [
    "# use filter to obtain the odd values in numbers:\n",
    "\n",
    "numbers = [10, 3, 7, 1, 9, 4, 2, 8, 5, 6]\n",
    "\n",
    "def is_odd(x):\n",
    "    \"\"\"returns true only if x is odd.\"\"\"\n",
    "    return x % 2 != 0\n",
    "\n",
    "list(filter(is_odd, numbers))"
   ]
  },
  {
   "cell_type": "markdown",
   "id": "de246ef0-f9d3-49f7-b329-0d8b816e44c2",
   "metadata": {},
   "source": [
    "The function is_odd returns True if its argument is odd. The filter function call is_odd once for each value in its second argument's iterable(numbers). "
   ]
  },
  {
   "cell_type": "code",
   "execution_count": 87,
   "id": "b5c9cd9f-2551-4156-965b-a4798f951ffc",
   "metadata": {},
   "outputs": [
    {
     "data": {
      "text/plain": [
       "[3, 7, 1, 9, 5]"
      ]
     },
     "execution_count": 87,
     "metadata": {},
     "output_type": "execute_result"
    }
   ],
   "source": [
    "[item for item in numbers if is_odd(item)]\n"
   ]
  },
  {
   "cell_type": "code",
   "execution_count": 89,
   "id": "fbd02a73-69a1-4c7c-8a09-710b4f80e5b9",
   "metadata": {},
   "outputs": [
    {
     "data": {
      "text/plain": [
       "[3, 7, 1, 9, 5]"
      ]
     },
     "execution_count": 89,
     "metadata": {},
     "output_type": "execute_result"
    }
   ],
   "source": [
    "# using a lambda rather than a function; can use for simple functions that return only a single expression's value; \n",
    "\n",
    "list(filter(lambda x: x % 2 != 0, numbers))"
   ]
  },
  {
   "cell_type": "markdown",
   "id": "97b06bcf-d830-4722-aa86-e88a50b0bd96",
   "metadata": {},
   "source": [
    "A lambda expression is an anonymous function, without a name. In the filter call :filter(lambda x: x % 2 !=0, numbers): lambda x: x % 2 !=0 is the lambda. \n",
    "    * Lambda begins with keyword lambda followed by a comma-separated parameter list, a colon, and an expression\n",
    "    * implicitly returns its expressions value"
   ]
  },
  {
   "cell_type": "code",
   "execution_count": 90,
   "id": "842819bd-a0e3-46b3-957c-653f033e3958",
   "metadata": {},
   "outputs": [
    {
     "data": {
      "text/plain": [
       "[100, 9, 49, 1, 81, 16, 4, 64, 25, 36]"
      ]
     },
     "execution_count": 90,
     "metadata": {},
     "output_type": "execute_result"
    }
   ],
   "source": [
    "# mapping a sequence's values to new values; use the built-in function map with a labda to square each value in numbers:\n",
    "\n",
    "list(map(lambda x: x ** 2, numbers))"
   ]
  },
  {
   "cell_type": "code",
   "execution_count": 91,
   "id": "850ce998-1f80-4495-baf2-3c3f66eb919a",
   "metadata": {},
   "outputs": [
    {
     "data": {
      "text/plain": [
       "[100, 9, 49, 1, 81, 16, 4, 64, 25, 36]"
      ]
     },
     "execution_count": 91,
     "metadata": {},
     "output_type": "execute_result"
    }
   ],
   "source": [
    "[item ** 2 for item in numbers]"
   ]
  },
  {
   "cell_type": "code",
   "execution_count": 92,
   "id": "8731b753-1595-4df6-abdf-beed1ecd148f",
   "metadata": {},
   "outputs": [
    {
     "data": {
      "text/plain": [
       "[9, 49, 1, 81, 25]"
      ]
     },
     "execution_count": 92,
     "metadata": {},
     "output_type": "execute_result"
    }
   ],
   "source": [
    "# combining filter and map\n",
    "\n",
    "list(map(lambda x: x ** 2, \n",
    "         filter(lambda x: x % 2 != 0, numbers)))"
   ]
  },
  {
   "cell_type": "markdown",
   "id": "f0e6456e-b08e-40a0-b3b7-52cfe0ee3567",
   "metadata": {},
   "source": [
    "1. Filter returns an iterable for only the odd values of numbers. \n",
    "2. Map returns an iterable representing the squares of the filtered values.\n",
    "3. List uses map's iterable to create the list. "
   ]
  },
  {
   "cell_type": "code",
   "execution_count": 94,
   "id": "99f2c498-4eb7-47e2-996f-ccefe46f109c",
   "metadata": {},
   "outputs": [
    {
     "data": {
      "text/plain": [
       "[9, 49, 1, 81, 25]"
      ]
     },
     "execution_count": 94,
     "metadata": {},
     "output_type": "execute_result"
    }
   ],
   "source": [
    "# list comprehension in place of last snippet\n",
    "\n",
    "[x ** 2 for x in numbers if x % 2 != 0]"
   ]
  },
  {
   "cell_type": "code",
   "execution_count": 95,
   "id": "9bbde4ca-db35-4c12-a28f-335fd297cc84",
   "metadata": {},
   "outputs": [],
   "source": [
    "# create a list called numbers containing 1 through 15: filter with a lambda to select only even elements, use mapwith a lambda to square the values, filter even elements then map to their squares\n",
    "\n",
    "numbers = list(range(1, 16))"
   ]
  },
  {
   "cell_type": "code",
   "execution_count": 96,
   "id": "2eefae71-71a9-4714-b37f-bf84c2187244",
   "metadata": {},
   "outputs": [
    {
     "data": {
      "text/plain": [
       "[1, 2, 3, 4, 5, 6, 7, 8, 9, 10, 11, 12, 13, 14, 15]"
      ]
     },
     "execution_count": 96,
     "metadata": {},
     "output_type": "execute_result"
    }
   ],
   "source": [
    "numbers"
   ]
  },
  {
   "cell_type": "code",
   "execution_count": 97,
   "id": "538ded08-444d-44e8-89c1-fdecd1e465e5",
   "metadata": {},
   "outputs": [
    {
     "data": {
      "text/plain": [
       "[2, 4, 6, 8, 10, 12, 14]"
      ]
     },
     "execution_count": 97,
     "metadata": {},
     "output_type": "execute_result"
    }
   ],
   "source": [
    "list(filter(lambda x: x % 2 == 0, numbers))"
   ]
  },
  {
   "cell_type": "code",
   "execution_count": 98,
   "id": "4a1f57f4-17e9-4ac7-9299-3fa3bbb6d59c",
   "metadata": {},
   "outputs": [
    {
     "data": {
      "text/plain": [
       "[1, 4, 9, 16, 25, 36, 49, 64, 81, 100, 121, 144, 169, 196, 225]"
      ]
     },
     "execution_count": 98,
     "metadata": {},
     "output_type": "execute_result"
    }
   ],
   "source": [
    "list(map(lambda x: x ** 2, numbers))"
   ]
  },
  {
   "cell_type": "code",
   "execution_count": 99,
   "id": "6d14b32a-9408-417f-ae5b-741f41efddaf",
   "metadata": {},
   "outputs": [
    {
     "data": {
      "text/plain": [
       "[4, 16, 36, 64, 100, 144, 196]"
      ]
     },
     "execution_count": 99,
     "metadata": {},
     "output_type": "execute_result"
    }
   ],
   "source": [
    "list(map(lambda x: x ** 2, filter(lambda x: x % 2 == 0, numbers)))"
   ]
  },
  {
   "cell_type": "code",
   "execution_count": 100,
   "id": "d505236b-b74a-4a92-a298-ad71bfa9d34c",
   "metadata": {},
   "outputs": [
    {
     "data": {
      "text/plain": [
       "[(41, 5.0), (32, 0.0), (212, 100.0)]"
      ]
     },
     "execution_count": 100,
     "metadata": {},
     "output_type": "execute_result"
    }
   ],
   "source": [
    "# map a list of the three fahrenheit tmps 41, 32, 212 to a list of tuples containing the temps and their celsius equivalents; convert F to C (celsius = (F-32)*(5/9))\n",
    "\n",
    "fahrenheit = [41, 32, 212]\n",
    "\n",
    "list(map(lambda x: (x, (x-32) * 5 / 9), fahrenheit))"
   ]
  },
  {
   "cell_type": "markdown",
   "id": "45e0b9b5-4dd6-484c-8b60-82d6eb386f2e",
   "metadata": {},
   "source": [
    "5.15 other sequence procesing functions:"
   ]
  },
  {
   "cell_type": "code",
   "execution_count": 101,
   "id": "87649da6-44c6-489e-869c-4a74cf87c170",
   "metadata": {},
   "outputs": [
    {
     "data": {
      "text/plain": [
       "True"
      ]
     },
     "execution_count": 101,
     "metadata": {},
     "output_type": "execute_result"
    }
   ],
   "source": [
    "# finding the min andmax using a key function\n",
    "\n",
    "'Red' < 'orange'"
   ]
  },
  {
   "cell_type": "code",
   "execution_count": 103,
   "id": "bbc92d82-ee64-4d4e-9729-b124de9fe87c",
   "metadata": {},
   "outputs": [
    {
     "data": {
      "text/plain": [
       "82"
      ]
     },
     "execution_count": 103,
     "metadata": {},
     "output_type": "execute_result"
    }
   ],
   "source": [
    "# return the numerical value of a character with ord\n",
    "ord('R')"
   ]
  },
  {
   "cell_type": "code",
   "execution_count": 104,
   "id": "3ee6f772-13d6-4ea1-b021-0e03fc54a286",
   "metadata": {},
   "outputs": [
    {
     "data": {
      "text/plain": [
       "111"
      ]
     },
     "execution_count": 104,
     "metadata": {},
     "output_type": "execute_result"
    }
   ],
   "source": [
    "ord('o')"
   ]
  },
  {
   "cell_type": "code",
   "execution_count": 105,
   "id": "d5d1d9f5-7ce0-4b5f-b287-7152acc6f634",
   "metadata": {},
   "outputs": [],
   "source": [
    "colors = ['Red', 'orange', 'Yellow', 'green', 'Blue']"
   ]
  },
  {
   "cell_type": "code",
   "execution_count": 106,
   "id": "a08791d3-1940-4e8b-beb5-b7460e0b4541",
   "metadata": {},
   "outputs": [
    {
     "data": {
      "text/plain": [
       "'Blue'"
      ]
     },
     "execution_count": 106,
     "metadata": {},
     "output_type": "execute_result"
    }
   ],
   "source": [
    "min(colors, key=lambda s:s.lower())"
   ]
  },
  {
   "cell_type": "code",
   "execution_count": 107,
   "id": "7807f7a5-4c6b-44aa-8b41-de23be3206eb",
   "metadata": {},
   "outputs": [
    {
     "data": {
      "text/plain": [
       "'Yellow'"
      ]
     },
     "execution_count": 107,
     "metadata": {},
     "output_type": "execute_result"
    }
   ],
   "source": [
    "max(colors, key=lambda s:s.upper())"
   ]
  },
  {
   "cell_type": "code",
   "execution_count": 109,
   "id": "e29da14d-5685-4b46-abb7-f287a231e777",
   "metadata": {},
   "outputs": [
    {
     "data": {
      "text/plain": [
       "[36, 25, 64, 4, 16, 81, 1, 49, 9, 100]"
      ]
     },
     "execution_count": 109,
     "metadata": {},
     "output_type": "execute_result"
    }
   ],
   "source": [
    "# iterating backward through a sequence\n",
    "\n",
    "numbers = [10, 3, 7, 1, 9, 4, 2, 8, 5, 6]\n",
    "reversed_numbers = [item ** 2 for item in reversed(numbers)]\n",
    "reversed_numbers"
   ]
  },
  {
   "cell_type": "code",
   "execution_count": 11,
   "id": "0e7ff84c-a397-41fb-bd9a-5fc2f1942b59",
   "metadata": {},
   "outputs": [
    {
     "name": "stdout",
     "output_type": "stream",
     "text": [
      "Name=Kim Leach; GPA=3.5\n",
      "Name=Sue; GPA=4.0\n",
      "Name=Amanda; GPA=3.75\n"
     ]
    }
   ],
   "source": [
    "# combining iterables into tubples of corresponding elements; unpack each tuple into name and gpa and display them\n",
    "\n",
    "names = ['Kim Leach', 'Sue', 'Amanda']\n",
    "grade_point_averages = [3.5, 4.0, 3.75]\n",
    "\n",
    "for name, gpa in zip(names, grade_point_averages):\n",
    "    print(f'Name={name}; GPA={gpa}')"
   ]
  },
  {
   "cell_type": "code",
   "execution_count": 112,
   "id": "a8392e5a-70c8-4e54-aea0-0b96e3e1dcf9",
   "metadata": {},
   "outputs": [
    {
     "data": {
      "text/plain": [
       "[11, 22, 33]"
      ]
     },
     "execution_count": 112,
     "metadata": {},
     "output_type": "execute_result"
    }
   ],
   "source": [
    "# use zip with two integer lists to create a new list containing the sum of the lements from corresponding indices in both lists\n",
    "\n",
    "[(a + b) for a, b in zip([10, 20, 30], [1, 2, 3])]"
   ]
  },
  {
   "cell_type": "markdown",
   "id": "1fdf828e-1bd9-43b1-b82e-c4775213f66c",
   "metadata": {},
   "source": [
    "5.16 two-dimensional lists: multi-dimensional lists can have more than two indices"
   ]
  },
  {
   "cell_type": "code",
   "execution_count": 113,
   "id": "919f4cae-5afa-46a3-9820-94e2e4c21d10",
   "metadata": {},
   "outputs": [],
   "source": [
    "a = [[77, 68, 86, 73], # student 1\n",
    "     [96, 87, 89, 81], # student 2\n",
    "     [70, 90, 86, 81]] # student 3"
   ]
  },
  {
   "cell_type": "code",
   "execution_count": 114,
   "id": "4577ca8d-99a2-43a3-b9f5-8f5dc339f34e",
   "metadata": {},
   "outputs": [
    {
     "name": "stdout",
     "output_type": "stream",
     "text": [
      "77 68 86 73 \n",
      "96 87 89 81 \n",
      "70 90 86 81 \n"
     ]
    }
   ],
   "source": [
    "for row in a:\n",
    "    for item in row:\n",
    "        print(item, end=' ')\n",
    "    print()"
   ]
  },
  {
   "cell_type": "code",
   "execution_count": 115,
   "id": "e6c81881-b2cb-4378-81d4-b98db86540ae",
   "metadata": {},
   "outputs": [
    {
     "name": "stdout",
     "output_type": "stream",
     "text": [
      "a[0][0]=77  a[0][1]=68  a[0][2]=86  a[0][3]=73  \n",
      "a[1][0]=96  a[1][1]=87  a[1][2]=89  a[1][3]=81  \n",
      "a[2][0]=70  a[2][1]=90  a[2][2]=86  a[2][3]=81  \n"
     ]
    }
   ],
   "source": [
    "for i, row in enumerate(a):\n",
    "    for j, item in enumerate(row):\n",
    "        print(f'a[{i}][{j}]={item} ', end=' ')\n",
    "    print()"
   ]
  },
  {
   "cell_type": "markdown",
   "id": "3b55d90d-8acf-4de9-ac5e-ccbe9dbd3283",
   "metadata": {},
   "source": [
    "5.17 Intro to data science: simulation and static visualizations\n",
    "5.17.2"
   ]
  }
 ],
 "metadata": {
  "kernelspec": {
   "display_name": "Python 3 (ipykernel)",
   "language": "python",
   "name": "python3"
  },
  "language_info": {
   "codemirror_mode": {
    "name": "ipython",
    "version": 3
   },
   "file_extension": ".py",
   "mimetype": "text/x-python",
   "name": "python",
   "nbconvert_exporter": "python",
   "pygments_lexer": "ipython3",
   "version": "3.9.12"
  }
 },
 "nbformat": 4,
 "nbformat_minor": 5
}
