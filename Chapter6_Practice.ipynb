{
 "cells": [
  {
   "cell_type": "markdown",
   "id": "55198ca8-97b1-48f2-a2f3-03181e06a409",
   "metadata": {},
   "source": [
    "Chapter 6: Dictionaries and Sets\n",
    "    * Dictionaries associate keys with values. Each key maps to a specific value.\n",
    "    * Dictionary keys must be immutable and unique but multiple keys can have the same values. IE Key would be student ID and value might be an assessment score.\n",
    "    * Unordered collctions, the display order can differ from the order the pairs were added - DO NOT write code that depends on the order of the key-value pairs"
   ]
  },
  {
   "cell_type": "markdown",
   "id": "3ffaf862-5ab3-48c5-a678-527ea57976fe",
   "metadata": {},
   "source": [
    "6.2: Creating a dictionary: create by enclosing in curly braces {} a comma-separated list of key-value pairs, each of the form key: value or an empty dictionary with {}"
   ]
  },
  {
   "cell_type": "code",
   "execution_count": 1,
   "id": "ba4141af-a196-460e-8d95-fcb5ab5e0998",
   "metadata": {},
   "outputs": [
    {
     "data": {
      "text/plain": [
       "{'Finland': 'fi', 'South Africa': 'za', 'Nepal': 'np'}"
      ]
     },
     "execution_count": 1,
     "metadata": {},
     "output_type": "execute_result"
    }
   ],
   "source": [
    "country_codes = {'Finland': 'fi', 'South Africa': 'za', 'Nepal': 'np'}\n",
    "\n",
    "country_codes"
   ]
  },
  {
   "cell_type": "code",
   "execution_count": 2,
   "id": "aaa35461-5c31-4014-90fa-554f8e0fb139",
   "metadata": {},
   "outputs": [
    {
     "data": {
      "text/plain": [
       "3"
      ]
     },
     "execution_count": 2,
     "metadata": {},
     "output_type": "execute_result"
    }
   ],
   "source": [
    "len(country_codes)"
   ]
  },
  {
   "cell_type": "code",
   "execution_count": 3,
   "id": "c335f653-c672-42fb-a3a5-a54005cad0d2",
   "metadata": {},
   "outputs": [
    {
     "name": "stdout",
     "output_type": "stream",
     "text": [
      "country_codes is not empty\n"
     ]
    }
   ],
   "source": [
    "if country_codes:\n",
    "    print('country_codes is not empty')\n",
    "else:\n",
    "    print('country_codes is empty')"
   ]
  },
  {
   "cell_type": "code",
   "execution_count": 4,
   "id": "49e27a89-fc85-437a-9ca1-06c4d8120177",
   "metadata": {},
   "outputs": [],
   "source": [
    "country_codes.clear()"
   ]
  },
  {
   "cell_type": "code",
   "execution_count": 5,
   "id": "83de344d-ab48-479c-9f7d-4d022a84e54c",
   "metadata": {},
   "outputs": [
    {
     "name": "stdout",
     "output_type": "stream",
     "text": [
      "country_codes is empty\n"
     ]
    }
   ],
   "source": [
    "if country_codes:\n",
    "    print('country_codes is not empty')\n",
    "else:\n",
    "    print('country_codes is empty')"
   ]
  },
  {
   "cell_type": "code",
   "execution_count": 6,
   "id": "b06688f6-1535-4a7b-9f36-d6aafded01f8",
   "metadata": {},
   "outputs": [
    {
     "data": {
      "text/plain": [
       "{'MO': 'Missouri', 'TX': 'Texas', 'NY': 'New York'}"
      ]
     },
     "execution_count": 6,
     "metadata": {},
     "output_type": "execute_result"
    }
   ],
   "source": [
    "states = {'MO': 'Missouri', 'TX': 'Texas', 'NY': 'New York'}\n",
    "states"
   ]
  },
  {
   "cell_type": "code",
   "execution_count": 8,
   "id": "4c141d63-2709-445b-9f36-20d777498ee0",
   "metadata": {},
   "outputs": [
    {
     "data": {
      "text/plain": [
       "{'January': 31, 'February': 28, 'March': 31}"
      ]
     },
     "execution_count": 8,
     "metadata": {},
     "output_type": "execute_result"
    }
   ],
   "source": [
    "# iterating through a dictionary\n",
    "days_per_month = {'January': 31, 'February': 28, 'March': 31}\n",
    "days_per_month"
   ]
  },
  {
   "cell_type": "code",
   "execution_count": 10,
   "id": "29d14393-f772-41c2-929e-4e0d250c7c48",
   "metadata": {},
   "outputs": [
    {
     "name": "stdout",
     "output_type": "stream",
     "text": [
      "January has 31 days\n",
      "February has 28 days\n",
      "March has 31 days\n"
     ]
    }
   ],
   "source": [
    "for month, days in days_per_month.items():\n",
    "    print(f'{month} has {days} days')"
   ]
  },
  {
   "cell_type": "code",
   "execution_count": 12,
   "id": "208d7d96-e4e2-4d7e-9d29-698b6172cecb",
   "metadata": {},
   "outputs": [
    {
     "data": {
      "text/plain": [
       "5"
      ]
     },
     "execution_count": 12,
     "metadata": {},
     "output_type": "execute_result"
    }
   ],
   "source": [
    "# accessing the value associated with a key\n",
    "\n",
    "roman_numerals = {'I': 1, 'II': 2, 'III': 3, 'V': 5, 'X': 100}\n",
    "\n",
    "roman_numerals['V']"
   ]
  },
  {
   "cell_type": "code",
   "execution_count": 13,
   "id": "60f0e0c3-979f-425a-a497-5114dd7a211e",
   "metadata": {},
   "outputs": [
    {
     "data": {
      "text/plain": [
       "100"
      ]
     },
     "execution_count": 13,
     "metadata": {},
     "output_type": "execute_result"
    }
   ],
   "source": [
    "roman_numerals['X']"
   ]
  },
  {
   "cell_type": "code",
   "execution_count": 15,
   "id": "4b527f5a-0b91-4967-970d-66c49fd99e38",
   "metadata": {},
   "outputs": [
    {
     "data": {
      "text/plain": [
       "{'I': 1, 'II': 2, 'III': 3, 'V': 5, 'X': 100, 'L': 50}"
      ]
     },
     "execution_count": 15,
     "metadata": {},
     "output_type": "execute_result"
    }
   ],
   "source": [
    "# assigning a new key-value pair: case sensitive\n",
    "\n",
    "roman_numerals['L'] = 50\n",
    "roman_numerals"
   ]
  },
  {
   "cell_type": "code",
   "execution_count": 16,
   "id": "5b5165f8-dca8-408d-b4ff-9a9e7d720f25",
   "metadata": {},
   "outputs": [
    {
     "data": {
      "text/plain": [
       "{'I': 1, 'II': 2, 'V': 5, 'X': 100, 'L': 50}"
      ]
     },
     "execution_count": 16,
     "metadata": {},
     "output_type": "execute_result"
    }
   ],
   "source": [
    "del roman_numerals['III']\n",
    "roman_numerals"
   ]
  },
  {
   "cell_type": "code",
   "execution_count": 17,
   "id": "7fa53ad5-090f-4c5c-9af5-cc2e0b5fdbeb",
   "metadata": {},
   "outputs": [
    {
     "data": {
      "text/plain": [
       "{'I': 1, 'II': 2, 'V': 5, 'L': 50}"
      ]
     },
     "execution_count": 17,
     "metadata": {},
     "output_type": "execute_result"
    }
   ],
   "source": [
    "roman_numerals.pop('X')\n",
    "roman_numerals"
   ]
  },
  {
   "cell_type": "code",
   "execution_count": 18,
   "id": "62e20bc2-45d7-43be-9d98-e86540f1ef0d",
   "metadata": {},
   "outputs": [
    {
     "ename": "KeyError",
     "evalue": "'III'",
     "output_type": "error",
     "traceback": [
      "\u001b[1;31m---------------------------------------------------------------------------\u001b[0m",
      "\u001b[1;31mKeyError\u001b[0m                                  Traceback (most recent call last)",
      "Input \u001b[1;32mIn [18]\u001b[0m, in \u001b[0;36m<cell line: 3>\u001b[1;34m()\u001b[0m\n\u001b[0;32m      1\u001b[0m \u001b[38;5;66;03m# attempting to access a nonexistent key results in a keyerror\u001b[39;00m\n\u001b[1;32m----> 3\u001b[0m \u001b[43mroman_numerals\u001b[49m\u001b[43m[\u001b[49m\u001b[38;5;124;43m'\u001b[39;49m\u001b[38;5;124;43mIII\u001b[39;49m\u001b[38;5;124;43m'\u001b[39;49m\u001b[43m]\u001b[49m\n",
      "\u001b[1;31mKeyError\u001b[0m: 'III'"
     ]
    }
   ],
   "source": [
    "# attempting to access a nonexistent key results in a keyerror\n",
    "\n",
    "roman_numerals['III']"
   ]
  },
  {
   "cell_type": "code",
   "execution_count": 19,
   "id": "70427cfe-e96c-407e-a18d-c8d2f904ba84",
   "metadata": {},
   "outputs": [
    {
     "data": {
      "text/plain": [
       "'not in dictionary'"
      ]
     },
     "execution_count": 19,
     "metadata": {},
     "output_type": "execute_result"
    }
   ],
   "source": [
    "#prevent key error by using dictionary method get; if the key is not found get returns none; you can specify a second argument to return if key not found\n",
    "\n",
    "roman_numerals.get('III', 'not in dictionary')"
   ]
  },
  {
   "cell_type": "code",
   "execution_count": 20,
   "id": "651247d6-d17b-4f7e-87e5-4a52aa6a203d",
   "metadata": {},
   "outputs": [
    {
     "data": {
      "text/plain": [
       "5"
      ]
     },
     "execution_count": 20,
     "metadata": {},
     "output_type": "execute_result"
    }
   ],
   "source": [
    "roman_numerals.get('V')"
   ]
  },
  {
   "cell_type": "code",
   "execution_count": 21,
   "id": "0e281a94-98ea-4645-81ea-2c5c49157433",
   "metadata": {},
   "outputs": [
    {
     "data": {
      "text/plain": [
       "True"
      ]
     },
     "execution_count": 21,
     "metadata": {},
     "output_type": "execute_result"
    }
   ],
   "source": [
    "'V' in roman_numerals"
   ]
  },
  {
   "cell_type": "code",
   "execution_count": 22,
   "id": "b798a726-1dab-4e94-989c-d4404ca205c2",
   "metadata": {},
   "outputs": [
    {
     "data": {
      "text/plain": [
       "False"
      ]
     },
     "execution_count": 22,
     "metadata": {},
     "output_type": "execute_result"
    }
   ],
   "source": [
    "'III' in roman_numerals"
   ]
  },
  {
   "cell_type": "code",
   "execution_count": 24,
   "id": "bb2f4dc2-7175-4ba0-a598-b18602274ec6",
   "metadata": {},
   "outputs": [
    {
     "data": {
      "text/plain": [
       "{'I': 1, 'II': 2, 'V': 5, 'L': 50, 'x': 10}"
      ]
     },
     "execution_count": 24,
     "metadata": {},
     "output_type": "execute_result"
    }
   ],
   "source": [
    "roman_numerals['x'] = 10\n",
    "roman_numerals"
   ]
  },
  {
   "cell_type": "code",
   "execution_count": 29,
   "id": "dd9d200b-a7fa-4457-856b-e3b2013e8106",
   "metadata": {},
   "outputs": [
    {
     "name": "stdout",
     "output_type": "stream",
     "text": [
      "January February March "
     ]
    }
   ],
   "source": [
    "months = {'January': 1, 'February': 2, 'March': 3}\n",
    "\n",
    "for month_name in months.keys():\n",
    "    print(month_name, end=' ')"
   ]
  },
  {
   "cell_type": "code",
   "execution_count": 30,
   "id": "67489bb9-1748-49e3-b024-f7e209f9e91a",
   "metadata": {},
   "outputs": [
    {
     "name": "stdout",
     "output_type": "stream",
     "text": [
      "1 2 3 "
     ]
    }
   ],
   "source": [
    "for month_number in months.values():\n",
    "    print(month_number, end=' ')"
   ]
  },
  {
   "cell_type": "code",
   "execution_count": 31,
   "id": "b5132d18-9ce6-4815-ac2d-beee45586fd7",
   "metadata": {},
   "outputs": [
    {
     "name": "stdout",
     "output_type": "stream",
     "text": [
      "January February March "
     ]
    }
   ],
   "source": [
    "months_view = months.keys()\n",
    "\n",
    "for key in months_view:\n",
    "    print(key, end=' ')"
   ]
  },
  {
   "cell_type": "code",
   "execution_count": 33,
   "id": "77569c1e-fbb2-4e5d-b029-3fb68e01520a",
   "metadata": {},
   "outputs": [
    {
     "data": {
      "text/plain": [
       "{'January': 1, 'February': 2, 'March': 3, 'December': 12}"
      ]
     },
     "execution_count": 33,
     "metadata": {},
     "output_type": "execute_result"
    }
   ],
   "source": [
    "months['December'] = 12\n",
    "months"
   ]
  },
  {
   "cell_type": "code",
   "execution_count": 34,
   "id": "d36cd75c-887a-4321-ace3-c83a6225d43a",
   "metadata": {},
   "outputs": [
    {
     "name": "stdout",
     "output_type": "stream",
     "text": [
      "January February March December "
     ]
    }
   ],
   "source": [
    "months_view = months.keys()\n",
    "\n",
    "for key in months_view:\n",
    "    print(key, end=' ')"
   ]
  },
  {
   "cell_type": "code",
   "execution_count": 35,
   "id": "1c2281b5-404a-494e-91fc-99a48de9dbad",
   "metadata": {},
   "outputs": [
    {
     "data": {
      "text/plain": [
       "['January', 'February', 'March', 'December']"
      ]
     },
     "execution_count": 35,
     "metadata": {},
     "output_type": "execute_result"
    }
   ],
   "source": [
    "# converting keys, values, and key-value pairs to lists\n",
    "\n",
    "list(months.keys())"
   ]
  },
  {
   "cell_type": "code",
   "execution_count": 37,
   "id": "3bcd3fd9-f67d-4014-9d31-590f8297f647",
   "metadata": {},
   "outputs": [
    {
     "data": {
      "text/plain": [
       "[1, 2, 3, 12]"
      ]
     },
     "execution_count": 37,
     "metadata": {},
     "output_type": "execute_result"
    }
   ],
   "source": [
    "list(months.values())"
   ]
  },
  {
   "cell_type": "code",
   "execution_count": 38,
   "id": "9e0b1751-2a01-4806-944c-b8c65a4a3bc9",
   "metadata": {},
   "outputs": [
    {
     "data": {
      "text/plain": [
       "[('January', 1), ('February', 2), ('March', 3), ('December', 12)]"
      ]
     },
     "execution_count": 38,
     "metadata": {},
     "output_type": "execute_result"
    }
   ],
   "source": [
    "list(months.items())"
   ]
  },
  {
   "cell_type": "code",
   "execution_count": 39,
   "id": "17364077-2942-4baf-939c-9955404f420d",
   "metadata": {},
   "outputs": [
    {
     "name": "stdout",
     "output_type": "stream",
     "text": [
      "December February January March "
     ]
    }
   ],
   "source": [
    "# procesing keys in sorted order use built-in sorted function\n",
    "for month_name in sorted(months.keys()):\n",
    "    print(month_name, end=' ')"
   ]
  },
  {
   "cell_type": "code",
   "execution_count": 41,
   "id": "03c53eeb-eee9-4e2b-beb4-d3e596eb05aa",
   "metadata": {},
   "outputs": [],
   "source": [
    "country_capitals1 = {'Belgium': 'Brussels', 'Haiti': 'Port-au-Prince'}\n",
    "country_capitals2 = {'Nepal': 'Kathmandu', 'Uruguay': 'Montivideo'}\n",
    "country_capitals3 = {'Belgium': 'Brussels', 'Haiti': 'Port-au-Prince'}"
   ]
  },
  {
   "cell_type": "code",
   "execution_count": 42,
   "id": "4f7d2227-fd3e-4cb7-9025-f378c5a64740",
   "metadata": {},
   "outputs": [
    {
     "data": {
      "text/plain": [
       "False"
      ]
     },
     "execution_count": 42,
     "metadata": {},
     "output_type": "execute_result"
    }
   ],
   "source": [
    "country_capitals1 == country_capitals2"
   ]
  },
  {
   "cell_type": "code",
   "execution_count": 43,
   "id": "5851866e-4e90-44ab-b886-6c0a183c3e93",
   "metadata": {},
   "outputs": [
    {
     "data": {
      "text/plain": [
       "True"
      ]
     },
     "execution_count": 43,
     "metadata": {},
     "output_type": "execute_result"
    }
   ],
   "source": [
    "country_capitals1 == country_capitals3"
   ]
  },
  {
   "cell_type": "markdown",
   "id": "c1b96753-8624-417e-88b5-4a17deb9523e",
   "metadata": {},
   "source": [
    "6.2.6 Example: Dictionary of Student Grades"
   ]
  },
  {
   "cell_type": "code",
   "execution_count": 44,
   "id": "8aa4f077-8f69-4b24-a8fd-4ef1b173ee53",
   "metadata": {},
   "outputs": [
    {
     "name": "stdout",
     "output_type": "stream",
     "text": [
      "Average for Susan is 92.33\n",
      "Average for Eduardo is 85.67\n",
      "Average for Azizi is 87.33\n",
      "Average for Kim is 93.33\n",
      "Class's average is: 89.67\n"
     ]
    }
   ],
   "source": [
    "# fig06_01.py\n",
    "\"\"\"Using a dictionary to represent an instructor's grade book.\"\"\"\n",
    "\n",
    "grade_book = {\n",
    "    'Susan': [92, 85, 100],\n",
    "    'Eduardo': [83, 95, 79],\n",
    "    'Azizi': [91, 89, 82],\n",
    "    'Kim': [97, 91, 92]\n",
    "}\n",
    "\n",
    "all_grades_total = 0\n",
    "all_grades_count = 0\n",
    "\n",
    "for name, grades in grade_book.items():\n",
    "    total = sum(grades)\n",
    "    print(f'Average for {name} is {total/len(grades):.2f}')\n",
    "    all_grades_total += total\n",
    "    all_grades_count += len(grades)\n",
    "    \n",
    "print(f\"Class's average is: {all_grades_total / all_grades_count:.2f}\")"
   ]
  },
  {
   "cell_type": "markdown",
   "id": "8822f40a-f4b1-4936-b4f5-ae98d1b34e81",
   "metadata": {},
   "source": [
    "6.2.7 Example: Word Counts"
   ]
  },
  {
   "cell_type": "code",
   "execution_count": 48,
   "id": "49cb67de-0b98-46fd-bcf1-75db89f185a6",
   "metadata": {},
   "outputs": [
    {
     "name": "stdout",
     "output_type": "stream",
     "text": [
      "WORD        COUNT\n",
      "Kim         1\n",
      "Leach       1\n",
      "is          2\n",
      "more        1\n",
      "others      1\n",
      "sample      2\n",
      "several     1\n",
      "text        2\n",
      "this        2\n",
      "with        2\n",
      "words       1\n",
      "\n",
      "Number of unique words: 11\n"
     ]
    }
   ],
   "source": [
    "# fig06_02.py\n",
    "\"\"\"Tokenizing a string and counting unique words.\"\"\"\n",
    "\n",
    "text = ('this is sample text with several words '\n",
    "        'this is more sample text with others Kim Leach')\n",
    "\n",
    "word_counts = {}\n",
    "\n",
    "# count occurrences of each unique word\n",
    "for word in text.split(): #tokenizes by separating the words using the meothod's delimiter string argument; uses space if no argument provided\n",
    "    if word in word_counts:\n",
    "        word_counts[word] += 1 # update existing key-value pair\n",
    "    else:\n",
    "        word_counts[word] = 1 # insert new key-value pair\n",
    "print(f'{\"WORD\":<12}COUNT')\n",
    "\n",
    "for word, count in sorted(word_counts.items()):\n",
    "    print(f'{word:<12}{count}')\n",
    "    \n",
    "print('\\nNumber of unique words:', len(word_counts))"
   ]
  },
  {
   "cell_type": "code",
   "execution_count": 51,
   "id": "08e22d82-d719-49d6-8305-ae08c5d9b688",
   "metadata": {},
   "outputs": [],
   "source": [
    "from collections import Counter"
   ]
  },
  {
   "cell_type": "code",
   "execution_count": 134,
   "id": "35942b17-20fb-456c-8fd7-1b36fc8af087",
   "metadata": {},
   "outputs": [
    {
     "name": "stdout",
     "output_type": "stream",
     "text": [
      "WORD        COUNT\n",
      "Kim         1\n",
      "Leach       1\n",
      "is          2\n",
      "more        1\n",
      "others      1\n",
      "sample      2\n",
      "several     1\n",
      "text        2\n",
      "this        2\n",
      "with        2\n",
      "words       1\n",
      "\n",
      "Number of unique words: 11\n"
     ]
    }
   ],
   "source": [
    "text = ('this is sample text with several words '\n",
    "        'this is more sample text with others Kim Leach')\n",
    "\n",
    "counter = Counter(text.split())\n",
    "print(f'{\"WORD\":<12}COUNT')\n",
    "for word, count in sorted(counter.items()):\n",
    "    print(f'{word:<12}{count}')\n",
    "    \n"
   ]
  },
  {
   "cell_type": "code",
   "execution_count": 137,
   "id": "fdc1f9ee-39f5-4313-aaf5-9bf681dac20a",
   "metadata": {},
   "outputs": [
    {
     "name": "stdout",
     "output_type": "stream",
     "text": [
      "WORD        COUNT\n",
      "American       2\n",
      "But            2\n",
      "Chevy          2\n",
      "Drove          2\n",
      "I              4\n",
      "Miss           2\n",
      "Pie            2\n",
      "Singing        2\n",
      "So             2\n",
      "Them           2\n",
      "This           4\n",
      "and            2\n",
      "be             4\n",
      "boys           2\n",
      "bye            4\n",
      "day            4\n",
      "die            4\n",
      "drinking       2\n",
      "dry            2\n",
      "good           2\n",
      "levee          4\n",
      "my             2\n",
      "old            2\n",
      "rye            2\n",
      "that           4\n",
      "the            8\n",
      "to             2\n",
      "was            2\n",
      "were           2\n",
      "whiskey        2\n",
      "will           4\n",
      "\n",
      "Number of unique words: 31\n"
     ]
    }
   ],
   "source": [
    "text2 = ('So bye bye Miss American Pie So bye bye Miss American Pie '\n",
    "    'Drove my Chevy to the levee Drove my Chevy to the levee '\n",
    "    'But the levee was dry But the levee was dry '\n",
    "    'Them good old boys were drinking whiskey and rye Them good old boys were drinking whiskey and rye '\n",
    "    'Singing This will be the day that I die Singing This will be the day that I die '\n",
    "    'This will be the day that I die This will be the day that I die')\n",
    "\n",
    "counter = Counter(text2.split())\n",
    "\n",
    "print(f'{\"WORD\":<12}COUNT')\n",
    "for word, count in sorted(counter.items()):\n",
    "    print(f'{word:<15}{count}')\n",
    "    \n",
    "print('\\nNumber of unique words:', len(counter)) ## Kim Leach - American Pie Chorus lyrics x2"
   ]
  },
  {
   "cell_type": "code",
   "execution_count": 53,
   "id": "5167bd1d-d222-4ab4-abc7-1843fa1a6737",
   "metadata": {},
   "outputs": [],
   "source": [
    "import random"
   ]
  },
  {
   "cell_type": "code",
   "execution_count": 55,
   "id": "10c1f044-8679-4dc1-810c-6e338ca96d6e",
   "metadata": {},
   "outputs": [
    {
     "name": "stdout",
     "output_type": "stream",
     "text": [
      "1     10\n",
      "2     12\n",
      "3     4\n",
      "4     14\n",
      "5     10\n"
     ]
    }
   ],
   "source": [
    "numbers = [random.randrange(1, 6) for i in range(50)]\n",
    "\n",
    "from collections import Counter\n",
    "\n",
    "counter = Counter(numbers)\n",
    "\n",
    "for value, count in sorted (counter.items()):\n",
    "    print(f'{value:<6}{count}')                        "
   ]
  },
  {
   "cell_type": "code",
   "execution_count": 56,
   "id": "475e12d8-3fc1-4ba6-8acc-f5464d453c91",
   "metadata": {},
   "outputs": [],
   "source": [
    "country_codes = {}"
   ]
  },
  {
   "cell_type": "code",
   "execution_count": 57,
   "id": "0bab4dec-e6ba-43fc-9667-1b821fd446d2",
   "metadata": {},
   "outputs": [
    {
     "data": {
      "text/plain": [
       "{'South Africa': 'za'}"
      ]
     },
     "execution_count": 57,
     "metadata": {},
     "output_type": "execute_result"
    }
   ],
   "source": [
    "country_codes.update ({'South Africa': 'za'})\n",
    "country_codes"
   ]
  },
  {
   "cell_type": "code",
   "execution_count": 58,
   "id": "4dd1114b-da8b-409b-9654-17b29f33fcdb",
   "metadata": {},
   "outputs": [
    {
     "data": {
      "text/plain": [
       "{'South Africa': 'za', 'Australia': 'ar'}"
      ]
     },
     "execution_count": 58,
     "metadata": {},
     "output_type": "execute_result"
    }
   ],
   "source": [
    "country_codes.update ({'Australia': 'ar'})\n",
    "country_codes"
   ]
  },
  {
   "cell_type": "code",
   "execution_count": 59,
   "id": "d674f526-ace3-4f4c-822a-6e6ef44f1aa9",
   "metadata": {},
   "outputs": [
    {
     "data": {
      "text/plain": [
       "{'South Africa': 'za', 'Australia': 'au'}"
      ]
     },
     "execution_count": 59,
     "metadata": {},
     "output_type": "execute_result"
    }
   ],
   "source": [
    "country_codes.update ({'Australia': 'au'})\n",
    "country_codes"
   ]
  },
  {
   "cell_type": "code",
   "execution_count": 60,
   "id": "5bea5243-b604-4f5a-addd-9f8801e254bd",
   "metadata": {},
   "outputs": [
    {
     "data": {
      "text/plain": [
       "{'January': 1, 'February': 2, 'March': 3, 'December': 12}"
      ]
     },
     "execution_count": 60,
     "metadata": {},
     "output_type": "execute_result"
    }
   ],
   "source": [
    "months"
   ]
  },
  {
   "cell_type": "code",
   "execution_count": 61,
   "id": "0f7fa97c-7605-4fe8-abca-a4c674f682c0",
   "metadata": {},
   "outputs": [
    {
     "data": {
      "text/plain": [
       "{1: 'January', 2: 'February', 3: 'March', 12: 'December'}"
      ]
     },
     "execution_count": 61,
     "metadata": {},
     "output_type": "execute_result"
    }
   ],
   "source": [
    "months2 = {number: name for name, number in months.items()}\n",
    "months2"
   ]
  },
  {
   "cell_type": "code",
   "execution_count": 65,
   "id": "1bdfcb7a-38f5-4baa-a992-848e48da11bf",
   "metadata": {},
   "outputs": [],
   "source": [
    "grades = {'Kim': [98, 87, 94], 'Leach': [54, 95, 91]}"
   ]
  },
  {
   "cell_type": "code",
   "execution_count": 66,
   "id": "63146293-6330-4464-965d-89ed1dfed85a",
   "metadata": {},
   "outputs": [
    {
     "data": {
      "text/plain": [
       "{'Kim': 93.0, 'Leach': 80.0}"
      ]
     },
     "execution_count": 66,
     "metadata": {},
     "output_type": "execute_result"
    }
   ],
   "source": [
    "grades2 = {k: sum(v) / len(v) for k, v in grades.items()}\n",
    "grades2"
   ]
  },
  {
   "cell_type": "code",
   "execution_count": 67,
   "id": "24b7f61f-1209-4fce-bf28-735c43950d08",
   "metadata": {},
   "outputs": [
    {
     "data": {
      "text/plain": [
       "{1: 1, 2: 8, 3: 27, 4: 64, 5: 125}"
      ]
     },
     "execution_count": 67,
     "metadata": {},
     "output_type": "execute_result"
    }
   ],
   "source": [
    "{number: number ** 3 for number in range(1, 6)}"
   ]
  },
  {
   "cell_type": "markdown",
   "id": "1f5e2565-91d3-4c02-be65-f37b8dfe0c06",
   "metadata": {},
   "source": [
    "6.3 Sets - set is an unordered collection of unique values\n",
    "    * May contain only immutable objects like strings, ints, floats, and tuples that contain only immutable elements\n",
    "    * Sets are iterable, but are not sequences and do not support indexing and slicing with square brackets."
   ]
  },
  {
   "cell_type": "code",
   "execution_count": 68,
   "id": "ef108dbb-7585-4cbc-aa4e-159bd5dc4119",
   "metadata": {},
   "outputs": [],
   "source": [
    "#creating a set with curly braces\n",
    "\n",
    "colores = {'red', 'orange', 'yellow', 'green', 'red', 'blue'}"
   ]
  },
  {
   "cell_type": "code",
   "execution_count": 69,
   "id": "1b0f1d51-d138-4604-8cdc-9a2624d2a516",
   "metadata": {},
   "outputs": [
    {
     "data": {
      "text/plain": [
       "{'blue', 'green', 'orange', 'red', 'yellow'}"
      ]
     },
     "execution_count": 69,
     "metadata": {},
     "output_type": "execute_result"
    }
   ],
   "source": [
    "colores"
   ]
  },
  {
   "cell_type": "markdown",
   "id": "f203d1ea-b33a-4a7a-b139-4b7d9862c043",
   "metadata": {},
   "source": [
    "Duplicate eilimination of red and sets are unordered"
   ]
  },
  {
   "cell_type": "code",
   "execution_count": 70,
   "id": "8581e140-744a-4989-8aa5-35f0b11aefe7",
   "metadata": {},
   "outputs": [
    {
     "data": {
      "text/plain": [
       "5"
      ]
     },
     "execution_count": 70,
     "metadata": {},
     "output_type": "execute_result"
    }
   ],
   "source": [
    "len(colores)"
   ]
  },
  {
   "cell_type": "code",
   "execution_count": 71,
   "id": "b4a1755b-baf9-4090-9b1f-bdb962621638",
   "metadata": {},
   "outputs": [
    {
     "data": {
      "text/plain": [
       "True"
      ]
     },
     "execution_count": 71,
     "metadata": {},
     "output_type": "execute_result"
    }
   ],
   "source": [
    "'red' in colores"
   ]
  },
  {
   "cell_type": "code",
   "execution_count": 72,
   "id": "dc0ee8fd-3419-4271-889c-b038645620b9",
   "metadata": {},
   "outputs": [
    {
     "data": {
      "text/plain": [
       "False"
      ]
     },
     "execution_count": 72,
     "metadata": {},
     "output_type": "execute_result"
    }
   ],
   "source": [
    "'purple' in colores"
   ]
  },
  {
   "cell_type": "code",
   "execution_count": 73,
   "id": "ebf48010-a998-4f46-85c7-b577c8953567",
   "metadata": {},
   "outputs": [
    {
     "data": {
      "text/plain": [
       "False"
      ]
     },
     "execution_count": 73,
     "metadata": {},
     "output_type": "execute_result"
    }
   ],
   "source": [
    "'Red' in colores"
   ]
  },
  {
   "cell_type": "code",
   "execution_count": 75,
   "id": "e2da59bf-e1fa-4a12-bb09-853271ee97a5",
   "metadata": {},
   "outputs": [
    {
     "name": "stdout",
     "output_type": "stream",
     "text": [
      "RED BLUE GREEN YELLOW ORANGE "
     ]
    }
   ],
   "source": [
    "for color in colores:\n",
    "    print(color.upper(), end=' ')"
   ]
  },
  {
   "cell_type": "code",
   "execution_count": 76,
   "id": "e89c9fed-2ff2-4b1d-bebc-1d189b828f10",
   "metadata": {},
   "outputs": [],
   "source": [
    "numbers = list(range(10)) + list(range(5))"
   ]
  },
  {
   "cell_type": "code",
   "execution_count": 77,
   "id": "9f6a67a3-700b-4478-9822-099e8d5bcca6",
   "metadata": {},
   "outputs": [
    {
     "data": {
      "text/plain": [
       "[0, 1, 2, 3, 4, 5, 6, 7, 8, 9, 0, 1, 2, 3, 4]"
      ]
     },
     "execution_count": 77,
     "metadata": {},
     "output_type": "execute_result"
    }
   ],
   "source": [
    "numbers"
   ]
  },
  {
   "cell_type": "code",
   "execution_count": 78,
   "id": "33ec4068-da29-4df5-aa69-adf293a386c3",
   "metadata": {},
   "outputs": [
    {
     "data": {
      "text/plain": [
       "{0, 1, 2, 3, 4, 5, 6, 7, 8, 9}"
      ]
     },
     "execution_count": 78,
     "metadata": {},
     "output_type": "execute_result"
    }
   ],
   "source": [
    "set(numbers)"
   ]
  },
  {
   "cell_type": "code",
   "execution_count": 79,
   "id": "33764ede-c9dc-44ff-b998-3685bad9dd6f",
   "metadata": {},
   "outputs": [
    {
     "data": {
      "text/plain": [
       "set()"
      ]
     },
     "execution_count": 79,
     "metadata": {},
     "output_type": "execute_result"
    }
   ],
   "source": [
    "set()"
   ]
  },
  {
   "cell_type": "code",
   "execution_count": 80,
   "id": "4c23ee47-93f9-4001-a6a2-c655510fda22",
   "metadata": {},
   "outputs": [
    {
     "name": "stdout",
     "output_type": "stream",
     "text": [
      "be is not or question that the to "
     ]
    }
   ],
   "source": [
    "text = 'to be or not to be that is the question'\n",
    "\n",
    "unique_words = set(text.split())\n",
    "\n",
    "for word in sorted(unique_words):\n",
    "    print(word, end=' ')"
   ]
  },
  {
   "cell_type": "code",
   "execution_count": 81,
   "id": "b01f60e6-2153-437a-bf61-ef75e9507a19",
   "metadata": {},
   "outputs": [
    {
     "data": {
      "text/plain": [
       "True"
      ]
     },
     "execution_count": 81,
     "metadata": {},
     "output_type": "execute_result"
    }
   ],
   "source": [
    "# == to evaluate if they have the same values\n",
    "\n",
    "{1, 3, 5} == {3, 5, 1}"
   ]
  },
  {
   "cell_type": "code",
   "execution_count": 83,
   "id": "0eec2bf6-064c-4dfe-9cf3-7e341d7944e8",
   "metadata": {},
   "outputs": [
    {
     "data": {
      "text/plain": [
       "False"
      ]
     },
     "execution_count": 83,
     "metadata": {},
     "output_type": "execute_result"
    }
   ],
   "source": [
    "# < tests whether the set is a proper subset and the sets are not equal\n",
    "\n",
    "{1, 2, 5} < {2, 5, 1}"
   ]
  },
  {
   "cell_type": "code",
   "execution_count": 84,
   "id": "a0bf1dbf-19b5-460d-9cf5-ab72da45d271",
   "metadata": {},
   "outputs": [
    {
     "data": {
      "text/plain": [
       "True"
      ]
     },
     "execution_count": 84,
     "metadata": {},
     "output_type": "execute_result"
    }
   ],
   "source": [
    "{1, 2, 5} < {2, 5, 1, 7}"
   ]
  },
  {
   "cell_type": "code",
   "execution_count": 85,
   "id": "694a0eb1-110f-4643-90cc-67228dc85872",
   "metadata": {},
   "outputs": [
    {
     "data": {
      "text/plain": [
       "True"
      ]
     },
     "execution_count": 85,
     "metadata": {},
     "output_type": "execute_result"
    }
   ],
   "source": [
    "# <= tests whether the set is an improper subset and the sets might be equal\n",
    "\n",
    "{1, 2, 5} <= {2, 5, 1}"
   ]
  },
  {
   "cell_type": "code",
   "execution_count": 86,
   "id": "29a83ecf-ac4c-401a-b136-a8c2756d20ca",
   "metadata": {},
   "outputs": [
    {
     "data": {
      "text/plain": [
       "True"
      ]
     },
     "execution_count": 86,
     "metadata": {},
     "output_type": "execute_result"
    }
   ],
   "source": [
    "{1, 2, 5} <= {2, 5, 1, 7}"
   ]
  },
  {
   "cell_type": "code",
   "execution_count": 88,
   "id": "c261faaa-2124-4123-936c-e45ecbceb659",
   "metadata": {},
   "outputs": [
    {
     "data": {
      "text/plain": [
       "True"
      ]
     },
     "execution_count": 88,
     "metadata": {},
     "output_type": "execute_result"
    }
   ],
   "source": [
    "# can also check for imporper subset with the set method issubset:\n",
    "\n",
    "{1, 3, 5}.issubset({3, 5, 1})"
   ]
  },
  {
   "cell_type": "code",
   "execution_count": 89,
   "id": "01ba7192-9822-4ee7-9965-100e9f4f5502",
   "metadata": {},
   "outputs": [
    {
     "data": {
      "text/plain": [
       "False"
      ]
     },
     "execution_count": 89,
     "metadata": {},
     "output_type": "execute_result"
    }
   ],
   "source": [
    "{1, 2}.issubset({3, 5, 1})"
   ]
  },
  {
   "cell_type": "code",
   "execution_count": 90,
   "id": "b80206ec-5887-45ab-b5ac-b2434f54556e",
   "metadata": {},
   "outputs": [
    {
     "data": {
      "text/plain": [
       "False"
      ]
     },
     "execution_count": 90,
     "metadata": {},
     "output_type": "execute_result"
    }
   ],
   "source": [
    "# > tests whether the set is a proper superset and the left operand has more elements\n",
    "\n",
    "{1, 2, 5} > {2, 5, 1}"
   ]
  },
  {
   "cell_type": "code",
   "execution_count": 91,
   "id": "aa8ccbc0-f5b3-4488-8e00-80d2a38454e6",
   "metadata": {},
   "outputs": [
    {
     "data": {
      "text/plain": [
       "True"
      ]
     },
     "execution_count": 91,
     "metadata": {},
     "output_type": "execute_result"
    }
   ],
   "source": [
    "{2, 5, 1, 7} > {1, 2, 5}"
   ]
  },
  {
   "cell_type": "code",
   "execution_count": 92,
   "id": "8982b23b-39a1-4b4b-8101-62768b0d89e7",
   "metadata": {},
   "outputs": [
    {
     "data": {
      "text/plain": [
       "True"
      ]
     },
     "execution_count": 92,
     "metadata": {},
     "output_type": "execute_result"
    }
   ],
   "source": [
    "# >= tests whether the set to the left is an imporper superset of the one to the right and the sets might be equal\n",
    "\n",
    "{1, 2, 5} >= {2, 5, 1}"
   ]
  },
  {
   "cell_type": "code",
   "execution_count": 94,
   "id": "1c44b2dd-c9ed-46e6-ae25-1525152cd307",
   "metadata": {},
   "outputs": [
    {
     "data": {
      "text/plain": [
       "False"
      ]
     },
     "execution_count": 94,
     "metadata": {},
     "output_type": "execute_result"
    }
   ],
   "source": [
    "{2, 5, 1, 7} >= {1, 3, 5}"
   ]
  },
  {
   "cell_type": "code",
   "execution_count": 95,
   "id": "8e39fda8-8b12-4884-89da-03e79d0b7798",
   "metadata": {},
   "outputs": [
    {
     "data": {
      "text/plain": [
       "True"
      ]
     },
     "execution_count": 95,
     "metadata": {},
     "output_type": "execute_result"
    }
   ],
   "source": [
    "set('abc def ghi jkl mno').issuperset('hi mom')"
   ]
  },
  {
   "cell_type": "markdown",
   "id": "31cd2dd5-abd2-496c-a866-6ce6973e6b39",
   "metadata": {},
   "source": [
    "6.3.2 Mathematical set operations"
   ]
  },
  {
   "cell_type": "code",
   "execution_count": 96,
   "id": "1d4d9445-944d-46f9-b3be-f6bd78ef88d7",
   "metadata": {},
   "outputs": [
    {
     "data": {
      "text/plain": [
       "{1, 2, 3, 4, 5}"
      ]
     },
     "execution_count": 96,
     "metadata": {},
     "output_type": "execute_result"
    }
   ],
   "source": [
    "# union is a set consisting of all the unique elements from both sets; calculate with the | operator or with set type's union method: (like a full outer join)\n",
    "\n",
    "{1, 3, 5} | {2, 3, 4}"
   ]
  },
  {
   "cell_type": "code",
   "execution_count": 100,
   "id": "7a858baa-d4a7-44c6-aa86-2fe6ddac45a0",
   "metadata": {},
   "outputs": [
    {
     "data": {
      "text/plain": [
       "{1, 3, 4, 5, 20, 40}"
      ]
     },
     "execution_count": 100,
     "metadata": {},
     "output_type": "execute_result"
    }
   ],
   "source": [
    "{1, 3, 5, 20, 40}.union([20, 20, 3, 40, 4])"
   ]
  },
  {
   "cell_type": "code",
   "execution_count": 101,
   "id": "b960d987-a3f1-47c1-a727-4bea3e8ebe06",
   "metadata": {},
   "outputs": [
    {
     "data": {
      "text/plain": [
       "{3, 20, 40}"
      ]
     },
     "execution_count": 101,
     "metadata": {},
     "output_type": "execute_result"
    }
   ],
   "source": [
    "# intersetcion consists of all the unique elements that two sets have in common (like an inner join); use the & or .intersection\n",
    "\n",
    "{1, 3, 5, 20, 40} & {20, 20, 3, 40, 4}"
   ]
  },
  {
   "cell_type": "code",
   "execution_count": 102,
   "id": "bd975eab-3e37-4894-9ab5-2884d11470dc",
   "metadata": {},
   "outputs": [
    {
     "data": {
      "text/plain": [
       "{3, 20, 40}"
      ]
     },
     "execution_count": 102,
     "metadata": {},
     "output_type": "execute_result"
    }
   ],
   "source": [
    "{1, 3, 5, 20, 40}.intersection([20, 20, 3, 40, 4])"
   ]
  },
  {
   "cell_type": "code",
   "execution_count": 103,
   "id": "6adb4ae7-1185-4a21-9bfb-94cc57273322",
   "metadata": {},
   "outputs": [
    {
     "data": {
      "text/plain": [
       "{1, 5}"
      ]
     },
     "execution_count": 103,
     "metadata": {},
     "output_type": "execute_result"
    }
   ],
   "source": [
    "# difference consists of the elements of both sets that are on the left but not on the right; use the - or .diference \n",
    "\n",
    "{1, 3, 5, 20, 40} - {20, 20, 3, 40, 4}"
   ]
  },
  {
   "cell_type": "code",
   "execution_count": 104,
   "id": "2e4ef364-cad1-4a87-bd67-f02b5f3811ae",
   "metadata": {},
   "outputs": [
    {
     "data": {
      "text/plain": [
       "{1, 5}"
      ]
     },
     "execution_count": 104,
     "metadata": {},
     "output_type": "execute_result"
    }
   ],
   "source": [
    "{1, 3, 5, 20, 40} .difference({20, 20, 3, 40, 4})"
   ]
  },
  {
   "cell_type": "code",
   "execution_count": 105,
   "id": "db46ec0f-c26d-42d4-b80c-99a0b93527c5",
   "metadata": {},
   "outputs": [
    {
     "data": {
      "text/plain": [
       "{1, 4, 5}"
      ]
     },
     "execution_count": 105,
     "metadata": {},
     "output_type": "execute_result"
    }
   ],
   "source": [
    "# symmetric difference consists of the elements of both sets that are not in common; use the ^ or .symmetric_difference\n",
    "\n",
    "{1, 3, 5, 20, 40} ^ {20, 20, 3, 40, 4}"
   ]
  },
  {
   "cell_type": "code",
   "execution_count": 106,
   "id": "bf620796-feaa-4ad6-a9d4-1868d44674ea",
   "metadata": {},
   "outputs": [
    {
     "data": {
      "text/plain": [
       "{1, 4, 5}"
      ]
     },
     "execution_count": 106,
     "metadata": {},
     "output_type": "execute_result"
    }
   ],
   "source": [
    "{1, 3, 5, 20, 40}.symmetric_difference({20, 20, 3, 40, 4})"
   ]
  },
  {
   "cell_type": "code",
   "execution_count": 108,
   "id": "f18c6d6a-dd6e-4904-84df-8b78d2a02b1e",
   "metadata": {},
   "outputs": [
    {
     "data": {
      "text/plain": [
       "True"
      ]
     },
     "execution_count": 108,
     "metadata": {},
     "output_type": "execute_result"
    }
   ],
   "source": [
    "#disjoint two sets are disjoint if they do not have any common elements\n",
    "\n",
    "{1, 3, 5}.isdisjoint({2, 4, 6})"
   ]
  },
  {
   "cell_type": "code",
   "execution_count": 109,
   "id": "f4374a6a-9201-412c-9468-efc1c54e59ed",
   "metadata": {},
   "outputs": [
    {
     "data": {
      "text/plain": [
       "False"
      ]
     },
     "execution_count": 109,
     "metadata": {},
     "output_type": "execute_result"
    }
   ],
   "source": [
    "{1, 3, 5}.isdisjoint({1, 4, 6})"
   ]
  },
  {
   "cell_type": "code",
   "execution_count": 110,
   "id": "35e7653e-2082-49de-ba2d-61b1a92ced46",
   "metadata": {},
   "outputs": [
    {
     "data": {
      "text/plain": [
       "{30}"
      ]
     },
     "execution_count": 110,
     "metadata": {},
     "output_type": "execute_result"
    }
   ],
   "source": [
    "{10, 20, 30} -  {5, 10, 15, 20}"
   ]
  },
  {
   "cell_type": "code",
   "execution_count": 111,
   "id": "4def1821-8778-4a59-88e9-e09c50baa697",
   "metadata": {},
   "outputs": [
    {
     "data": {
      "text/plain": [
       "{5, 15, 30}"
      ]
     },
     "execution_count": 111,
     "metadata": {},
     "output_type": "execute_result"
    }
   ],
   "source": [
    "{10, 20, 30} ^  {5, 10, 15, 20}"
   ]
  },
  {
   "cell_type": "code",
   "execution_count": 112,
   "id": "efff0c89-33ef-4b4c-af54-4cfe53c2a96e",
   "metadata": {},
   "outputs": [
    {
     "data": {
      "text/plain": [
       "{5, 10, 15, 20, 30}"
      ]
     },
     "execution_count": 112,
     "metadata": {},
     "output_type": "execute_result"
    }
   ],
   "source": [
    "{10, 20, 30} | {5, 10, 15, 20}"
   ]
  },
  {
   "cell_type": "code",
   "execution_count": 113,
   "id": "586d12db-be77-4bd3-8f90-a1d46e3f0532",
   "metadata": {},
   "outputs": [
    {
     "data": {
      "text/plain": [
       "{10, 20}"
      ]
     },
     "execution_count": 113,
     "metadata": {},
     "output_type": "execute_result"
    }
   ],
   "source": [
    "{10, 20, 30} & {5, 10, 15, 20}"
   ]
  },
  {
   "cell_type": "markdown",
   "id": "f701d17b-60da-49ad-9865-974049de12a1",
   "metadata": {},
   "source": [
    "6.33 Mutable set operators and methods - preceding section operators and methods result in a new set, the following modify and existing set\n",
    "    * mutable mathematical set operations; untion autmented assignment |= performs a set untion opration but |= modifies its left operand. "
   ]
  },
  {
   "cell_type": "code",
   "execution_count": 114,
   "id": "f090f50a-0163-421d-b295-3c3ed0394498",
   "metadata": {},
   "outputs": [],
   "source": [
    "numbers = {1, 3, 5}"
   ]
  },
  {
   "cell_type": "code",
   "execution_count": 115,
   "id": "28a46ee1-b4ea-4183-9718-42befcde9e0b",
   "metadata": {},
   "outputs": [],
   "source": [
    "numbers |= {2, 3, 4}"
   ]
  },
  {
   "cell_type": "code",
   "execution_count": 116,
   "id": "8e5e8eb6-c5fe-4332-9d4f-ea1fddc4262f",
   "metadata": {},
   "outputs": [
    {
     "data": {
      "text/plain": [
       "{1, 2, 3, 4, 5}"
      ]
     },
     "execution_count": 116,
     "metadata": {},
     "output_type": "execute_result"
    }
   ],
   "source": [
    "numbers"
   ]
  },
  {
   "cell_type": "code",
   "execution_count": 117,
   "id": "c7ee3bf1-7c5c-4cc5-9d0a-b3da3b5464fa",
   "metadata": {},
   "outputs": [
    {
     "data": {
      "text/plain": [
       "{0, 1, 2, 3, 4, 5, 6, 7, 8, 9}"
      ]
     },
     "execution_count": 117,
     "metadata": {},
     "output_type": "execute_result"
    }
   ],
   "source": [
    "numbers.update(range(10))\n",
    "numbers"
   ]
  },
  {
   "cell_type": "markdown",
   "id": "07efbfca-bbe2-40f5-96d1-8c4668343369",
   "metadata": {},
   "source": [
    "The other mutable set methods are\n",
    "    intersection augmented assignment &= OR intersection_update\n",
    "    difference augmented assignment -= OR difference_update\n",
    "    symmetric differenct augmented assignment ^= OR symmetric_difference_update"
   ]
  },
  {
   "cell_type": "code",
   "execution_count": 123,
   "id": "a3dcbb84-df54-404c-bea0-1526e9683ffe",
   "metadata": {},
   "outputs": [
    {
     "data": {
      "text/plain": [
       "{1, 2, 3, 4, 5, 6, 7, 8, 9, 17}"
      ]
     },
     "execution_count": 123,
     "metadata": {},
     "output_type": "execute_result"
    }
   ],
   "source": [
    "#methods for adding and removing elements: set method add and remove add if not already in the set otherwise its unchanged and remove respectively\n",
    "#(.discard revmoes the argument from the set but does not cause an exception if the value is not in the set\n",
    "\n",
    "numbers.add(17)\n",
    "numbers"
   ]
  },
  {
   "cell_type": "code",
   "execution_count": 130,
   "id": "d93b296b-cdf1-4018-aba8-cae11298d24a",
   "metadata": {},
   "outputs": [
    {
     "data": {
      "text/plain": [
       "{1, 2, 3, 4, 5, 6, 7, 8, 9, 10}"
      ]
     },
     "execution_count": 130,
     "metadata": {},
     "output_type": "execute_result"
    }
   ],
   "source": [
    "## Kim Leach\n",
    "numbers.add(8)\n",
    "numbers"
   ]
  },
  {
   "cell_type": "code",
   "execution_count": 121,
   "id": "ce3be702-3dbc-46b2-b55f-a287b82c9ce4",
   "metadata": {},
   "outputs": [
    {
     "data": {
      "text/plain": [
       "{0, 1, 2, 3, 4, 5, 6, 7, 8, 9}"
      ]
     },
     "execution_count": 121,
     "metadata": {},
     "output_type": "execute_result"
    }
   ],
   "source": [
    "numbers.remove(17)\n",
    "numbers"
   ]
  },
  {
   "cell_type": "code",
   "execution_count": 122,
   "id": "298567ad-6256-416a-bc42-3e8b40f7c929",
   "metadata": {},
   "outputs": [
    {
     "data": {
      "text/plain": [
       "{1, 2, 3, 4, 5, 6, 7, 8, 9}"
      ]
     },
     "execution_count": 122,
     "metadata": {},
     "output_type": "execute_result"
    }
   ],
   "source": [
    "numbers.pop() #removes an ARBITRARY element\n",
    "numbers"
   ]
  },
  {
   "cell_type": "code",
   "execution_count": 126,
   "id": "209f58aa-5f8f-4ca2-b7a4-490040029344",
   "metadata": {},
   "outputs": [
    {
     "data": {
      "text/plain": [
       "{1, 2, 3, 4, 5, 6, 7, 8, 9, 17}"
      ]
     },
     "execution_count": 126,
     "metadata": {},
     "output_type": "execute_result"
    }
   ],
   "source": [
    "numbers.discard(19) #removes but does not cause exception of the value is not in the set like 19\n",
    "numbers"
   ]
  },
  {
   "cell_type": "code",
   "execution_count": 127,
   "id": "6dcf8ddc-7820-4e13-9104-b1937b46b1c4",
   "metadata": {},
   "outputs": [
    {
     "data": {
      "text/plain": [
       "set()"
      ]
     },
     "execution_count": 127,
     "metadata": {},
     "output_type": "execute_result"
    }
   ],
   "source": [
    "numbers.clear()\n",
    "numbers"
   ]
  },
  {
   "cell_type": "code",
   "execution_count": 128,
   "id": "337574b5-3b0c-402c-b4da-986ee7f1e884",
   "metadata": {},
   "outputs": [
    {
     "data": {
      "text/plain": [
       "{2, 4, 6, 8, 10}"
      ]
     },
     "execution_count": 128,
     "metadata": {},
     "output_type": "execute_result"
    }
   ],
   "source": [
    "numbers = {1, 2, 2, 3, 4, 5, 6, 6, 7, 8, 9, 10, 10}\n",
    "\n",
    "evens = {item for item in numbers if item % 2 == 0}\n",
    "\n",
    "evens"
   ]
  },
  {
   "cell_type": "code",
   "execution_count": 129,
   "id": "5b5dadc2-dcd3-457f-821a-ba0b29c5e613",
   "metadata": {},
   "outputs": [
    {
     "name": "stdout",
     "output_type": "stream",
     "text": [
      "My Name is Kim Leach\n"
     ]
    }
   ],
   "source": [
    "print('My Name is Kim Leach')"
   ]
  },
  {
   "cell_type": "code",
   "execution_count": null,
   "id": "b1840a2e-737c-4abe-8a8e-868aa377b516",
   "metadata": {},
   "outputs": [],
   "source": []
  }
 ],
 "metadata": {
  "kernelspec": {
   "display_name": "Python 3 (ipykernel)",
   "language": "python",
   "name": "python3"
  },
  "language_info": {
   "codemirror_mode": {
    "name": "ipython",
    "version": 3
   },
   "file_extension": ".py",
   "mimetype": "text/x-python",
   "name": "python",
   "nbconvert_exporter": "python",
   "pygments_lexer": "ipython3",
   "version": "3.9.12"
  }
 },
 "nbformat": 4,
 "nbformat_minor": 5
}
